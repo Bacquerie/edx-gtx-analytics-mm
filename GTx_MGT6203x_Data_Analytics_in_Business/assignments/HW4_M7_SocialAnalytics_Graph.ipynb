{
 "cells": [
  {
   "cell_type": "markdown",
   "metadata": {},
   "source": [
    "# Social Network Analytics"
   ]
  },
  {
   "cell_type": "code",
   "execution_count": 1,
   "metadata": {},
   "outputs": [
    {
     "name": "stderr",
     "output_type": "stream",
     "text": [
      "Warning message:\n",
      "\"package 'igraph' was built under R version 3.4.4\"\n",
      "Attaching package: 'igraph'\n",
      "\n",
      "The following objects are masked from 'package:stats':\n",
      "\n",
      "    decompose, spectrum\n",
      "\n",
      "The following object is masked from 'package:base':\n",
      "\n",
      "    union\n",
      "\n"
     ]
    }
   ],
   "source": [
    "#Import igraph package\n",
    "library(igraph)"
   ]
  },
  {
   "cell_type": "markdown",
   "metadata": {},
   "source": [
    "** Define the graph**"
   ]
  },
  {
   "cell_type": "code",
   "execution_count": 2,
   "metadata": {},
   "outputs": [
    {
     "name": "stderr",
     "output_type": "stream",
     "text": [
      "Warning message in graph(edges = c(\"A\", \"B\", \"A\", \"C\", \"B\", \"C\", \"B\", \"D\", \"C\", :\n",
      "\"'n' is ignored for edge list with vertex names\""
     ]
    }
   ],
   "source": [
    "W <- graph( edges=c('A','B','A','C',\n",
    "                     'B','C','B','D',\n",
    "                     'C','D','C','E',\n",
    "                     'D','F','D','G',\n",
    "                     'E','F','E','G',\n",
    "                     'F','G'\n",
    "                     ), n=7, directed=F ) "
   ]
  },
  {
   "cell_type": "markdown",
   "metadata": {},
   "source": [
    "** What is the length of the shortest paths from node A to each of the other nodes? **"
   ]
  },
  {
   "cell_type": "code",
   "execution_count": 3,
   "metadata": {},
   "outputs": [
    {
     "data": {
      "text/html": [
       "<table>\n",
       "<thead><tr><th></th><th scope=col>A</th><th scope=col>B</th><th scope=col>C</th><th scope=col>D</th><th scope=col>E</th><th scope=col>F</th><th scope=col>G</th></tr></thead>\n",
       "<tbody>\n",
       "\t<tr><th scope=row>A</th><td>0</td><td>1</td><td>1</td><td>2</td><td>2</td><td>3</td><td>3</td></tr>\n",
       "</tbody>\n",
       "</table>\n"
      ],
      "text/latex": [
       "\\begin{tabular}{r|lllllll}\n",
       "  & A & B & C & D & E & F & G\\\\\n",
       "\\hline\n",
       "\tA & 0 & 1 & 1 & 2 & 2 & 3 & 3\\\\\n",
       "\\end{tabular}\n"
      ],
      "text/markdown": [
       "\n",
       "| <!--/--> | A | B | C | D | E | F | G | \n",
       "|---|\n",
       "| A | 0 | 1 | 1 | 2 | 2 | 3 | 3 | \n",
       "\n",
       "\n"
      ],
      "text/plain": [
       "  A B C D E F G\n",
       "A 0 1 1 2 2 3 3"
      ]
     },
     "metadata": {},
     "output_type": "display_data"
    }
   ],
   "source": [
    "shortest.paths(W,'A')\n"
   ]
  },
  {
   "cell_type": "code",
   "execution_count": null,
   "metadata": {},
   "outputs": [],
   "source": []
  },
  {
   "cell_type": "markdown",
   "metadata": {},
   "source": [
    "** Create shortest path matrix **"
   ]
  },
  {
   "cell_type": "code",
   "execution_count": 4,
   "metadata": {},
   "outputs": [
    {
     "data": {
      "text/html": [
       "<table>\n",
       "<thead><tr><th></th><th scope=col>A</th><th scope=col>B</th><th scope=col>C</th><th scope=col>D</th><th scope=col>E</th><th scope=col>F</th><th scope=col>G</th></tr></thead>\n",
       "<tbody>\n",
       "\t<tr><th scope=row>A</th><td>0</td><td>1</td><td>1</td><td>2</td><td>2</td><td>3</td><td>3</td></tr>\n",
       "\t<tr><th scope=row>B</th><td>1</td><td>0</td><td>1</td><td>1</td><td>2</td><td>2</td><td>2</td></tr>\n",
       "\t<tr><th scope=row>C</th><td>1</td><td>1</td><td>0</td><td>1</td><td>1</td><td>2</td><td>2</td></tr>\n",
       "\t<tr><th scope=row>D</th><td>2</td><td>1</td><td>1</td><td>0</td><td>2</td><td>1</td><td>1</td></tr>\n",
       "\t<tr><th scope=row>E</th><td>2</td><td>2</td><td>1</td><td>2</td><td>0</td><td>1</td><td>1</td></tr>\n",
       "\t<tr><th scope=row>F</th><td>3</td><td>2</td><td>2</td><td>1</td><td>1</td><td>0</td><td>1</td></tr>\n",
       "\t<tr><th scope=row>G</th><td>3</td><td>2</td><td>2</td><td>1</td><td>1</td><td>1</td><td>0</td></tr>\n",
       "</tbody>\n",
       "</table>\n"
      ],
      "text/latex": [
       "\\begin{tabular}{r|lllllll}\n",
       "  & A & B & C & D & E & F & G\\\\\n",
       "\\hline\n",
       "\tA & 0 & 1 & 1 & 2 & 2 & 3 & 3\\\\\n",
       "\tB & 1 & 0 & 1 & 1 & 2 & 2 & 2\\\\\n",
       "\tC & 1 & 1 & 0 & 1 & 1 & 2 & 2\\\\\n",
       "\tD & 2 & 1 & 1 & 0 & 2 & 1 & 1\\\\\n",
       "\tE & 2 & 2 & 1 & 2 & 0 & 1 & 1\\\\\n",
       "\tF & 3 & 2 & 2 & 1 & 1 & 0 & 1\\\\\n",
       "\tG & 3 & 2 & 2 & 1 & 1 & 1 & 0\\\\\n",
       "\\end{tabular}\n"
      ],
      "text/markdown": [
       "\n",
       "| <!--/--> | A | B | C | D | E | F | G | \n",
       "|---|---|---|---|---|---|---|\n",
       "| A | 0 | 1 | 1 | 2 | 2 | 3 | 3 | \n",
       "| B | 1 | 0 | 1 | 1 | 2 | 2 | 2 | \n",
       "| C | 1 | 1 | 0 | 1 | 1 | 2 | 2 | \n",
       "| D | 2 | 1 | 1 | 0 | 2 | 1 | 1 | \n",
       "| E | 2 | 2 | 1 | 2 | 0 | 1 | 1 | \n",
       "| F | 3 | 2 | 2 | 1 | 1 | 0 | 1 | \n",
       "| G | 3 | 2 | 2 | 1 | 1 | 1 | 0 | \n",
       "\n",
       "\n"
      ],
      "text/plain": [
       "  A B C D E F G\n",
       "A 0 1 1 2 2 3 3\n",
       "B 1 0 1 1 2 2 2\n",
       "C 1 1 0 1 1 2 2\n",
       "D 2 1 1 0 2 1 1\n",
       "E 2 2 1 2 0 1 1\n",
       "F 3 2 2 1 1 0 1\n",
       "G 3 2 2 1 1 1 0"
      ]
     },
     "metadata": {},
     "output_type": "display_data"
    }
   ],
   "source": [
    "distMatrix <- shortest.paths(W, v=V(W), to=V(W))\n",
    "distMatrix"
   ]
  },
  {
   "cell_type": "markdown",
   "metadata": {},
   "source": [
    "** What is the diameter of Graph W? **"
   ]
  },
  {
   "cell_type": "code",
   "execution_count": 5,
   "metadata": {},
   "outputs": [
    {
     "data": {
      "text/html": [
       "3"
      ],
      "text/latex": [
       "3"
      ],
      "text/markdown": [
       "3"
      ],
      "text/plain": [
       "[1] 3"
      ]
     },
     "metadata": {},
     "output_type": "display_data"
    }
   ],
   "source": [
    "diameter(W)"
   ]
  },
  {
   "cell_type": "markdown",
   "metadata": {},
   "source": [
    "** Calculate the node - degree centrality of all the nodes. **\n",
    "\n",
    "** In order A B C D E F G **"
   ]
  },
  {
   "cell_type": "code",
   "execution_count": 6,
   "metadata": {},
   "outputs": [
    {
     "data": {
      "text/html": [
       "<dl class=dl-horizontal>\n",
       "\t<dt>A</dt>\n",
       "\t\t<dd>2</dd>\n",
       "\t<dt>B</dt>\n",
       "\t\t<dd>3</dd>\n",
       "\t<dt>C</dt>\n",
       "\t\t<dd>4</dd>\n",
       "\t<dt>D</dt>\n",
       "\t\t<dd>4</dd>\n",
       "\t<dt>E</dt>\n",
       "\t\t<dd>3</dd>\n",
       "\t<dt>F</dt>\n",
       "\t\t<dd>3</dd>\n",
       "\t<dt>G</dt>\n",
       "\t\t<dd>3</dd>\n",
       "</dl>\n"
      ],
      "text/latex": [
       "\\begin{description*}\n",
       "\\item[A] 2\n",
       "\\item[B] 3\n",
       "\\item[C] 4\n",
       "\\item[D] 4\n",
       "\\item[E] 3\n",
       "\\item[F] 3\n",
       "\\item[G] 3\n",
       "\\end{description*}\n"
      ],
      "text/markdown": [
       "A\n",
       ":   2B\n",
       ":   3C\n",
       ":   4D\n",
       ":   4E\n",
       ":   3F\n",
       ":   3G\n",
       ":   3\n",
       "\n"
      ],
      "text/plain": [
       "A B C D E F G \n",
       "2 3 4 4 3 3 3 "
      ]
     },
     "metadata": {},
     "output_type": "display_data"
    },
    {
     "data": {
      "text/html": [
       "<dl>\n",
       "\t<dt>$res</dt>\n",
       "\t\t<dd><ol class=list-inline>\n",
       "\t<li>2</li>\n",
       "\t<li>3</li>\n",
       "\t<li>4</li>\n",
       "\t<li>4</li>\n",
       "\t<li>3</li>\n",
       "\t<li>3</li>\n",
       "\t<li>3</li>\n",
       "</ol>\n",
       "</dd>\n",
       "\t<dt>$centralization</dt>\n",
       "\t\t<dd>0.142857142857143</dd>\n",
       "\t<dt>$theoretical_max</dt>\n",
       "\t\t<dd>42</dd>\n",
       "</dl>\n"
      ],
      "text/latex": [
       "\\begin{description}\n",
       "\\item[\\$res] \\begin{enumerate*}\n",
       "\\item 2\n",
       "\\item 3\n",
       "\\item 4\n",
       "\\item 4\n",
       "\\item 3\n",
       "\\item 3\n",
       "\\item 3\n",
       "\\end{enumerate*}\n",
       "\n",
       "\\item[\\$centralization] 0.142857142857143\n",
       "\\item[\\$theoretical\\_max] 42\n",
       "\\end{description}\n"
      ],
      "text/markdown": [
       "$res\n",
       ":   1. 2\n",
       "2. 3\n",
       "3. 4\n",
       "4. 4\n",
       "5. 3\n",
       "6. 3\n",
       "7. 3\n",
       "\n",
       "\n",
       "\n",
       "$centralization\n",
       ":   0.142857142857143\n",
       "$theoretical_max\n",
       ":   42\n",
       "\n",
       "\n"
      ],
      "text/plain": [
       "$res\n",
       "[1] 2 3 4 4 3 3 3\n",
       "\n",
       "$centralization\n",
       "[1] 0.1428571\n",
       "\n",
       "$theoretical_max\n",
       "[1] 42\n"
      ]
     },
     "metadata": {},
     "output_type": "display_data"
    }
   ],
   "source": [
    "degree(W)\n",
    "centr_degree(W)"
   ]
  },
  {
   "cell_type": "markdown",
   "metadata": {},
   "source": [
    "** Calculate the Node - closeness centrality of nodes C, D, and E. (In order C D E) **"
   ]
  },
  {
   "cell_type": "code",
   "execution_count": 7,
   "metadata": {},
   "outputs": [
    {
     "data": {
      "text/html": [
       "<dl>\n",
       "\t<dt>$res</dt>\n",
       "\t\t<dd><ol class=list-inline>\n",
       "\t<li>0.5</li>\n",
       "\t<li>0.666666666666667</li>\n",
       "\t<li>0.75</li>\n",
       "\t<li>0.75</li>\n",
       "\t<li>0.666666666666667</li>\n",
       "\t<li>0.6</li>\n",
       "\t<li>0.6</li>\n",
       "</ol>\n",
       "</dd>\n",
       "\t<dt>$centralization</dt>\n",
       "\t\t<dd>0.262777777777778</dd>\n",
       "\t<dt>$theoretical_max</dt>\n",
       "\t\t<dd>2.72727272727273</dd>\n",
       "</dl>\n"
      ],
      "text/latex": [
       "\\begin{description}\n",
       "\\item[\\$res] \\begin{enumerate*}\n",
       "\\item 0.5\n",
       "\\item 0.666666666666667\n",
       "\\item 0.75\n",
       "\\item 0.75\n",
       "\\item 0.666666666666667\n",
       "\\item 0.6\n",
       "\\item 0.6\n",
       "\\end{enumerate*}\n",
       "\n",
       "\\item[\\$centralization] 0.262777777777778\n",
       "\\item[\\$theoretical\\_max] 2.72727272727273\n",
       "\\end{description}\n"
      ],
      "text/markdown": [
       "$res\n",
       ":   1. 0.5\n",
       "2. 0.666666666666667\n",
       "3. 0.75\n",
       "4. 0.75\n",
       "5. 0.666666666666667\n",
       "6. 0.6\n",
       "7. 0.6\n",
       "\n",
       "\n",
       "\n",
       "$centralization\n",
       ":   0.262777777777778\n",
       "$theoretical_max\n",
       ":   2.72727272727273\n",
       "\n",
       "\n"
      ],
      "text/plain": [
       "$res\n",
       "[1] 0.5000000 0.6666667 0.7500000 0.7500000 0.6666667 0.6000000 0.6000000\n",
       "\n",
       "$centralization\n",
       "[1] 0.2627778\n",
       "\n",
       "$theoretical_max\n",
       "[1] 2.727273\n"
      ]
     },
     "metadata": {},
     "output_type": "display_data"
    }
   ],
   "source": [
    "centr_clo(W)"
   ]
  },
  {
   "cell_type": "markdown",
   "metadata": {},
   "source": [
    "** 3,4,5 shows centrality for C,D,E **\n",
    "\n",
    "** Calculate the Node - betweeness centrality of nodes C, D, and E. **"
   ]
  },
  {
   "cell_type": "code",
   "execution_count": 8,
   "metadata": {},
   "outputs": [
    {
     "data": {
      "text/html": [
       "<dl>\n",
       "\t<dt>$res</dt>\n",
       "\t\t<dd><ol class=list-inline>\n",
       "\t<li>0</li>\n",
       "\t<li>1.16666666666667</li>\n",
       "\t<li>4.16666666666667</li>\n",
       "\t<li>4.33333333333333</li>\n",
       "\t<li>1.66666666666667</li>\n",
       "\t<li>0.333333333333333</li>\n",
       "\t<li>0.333333333333333</li>\n",
       "</ol>\n",
       "</dd>\n",
       "\t<dt>$centralization</dt>\n",
       "\t\t<dd>0.203703703703704</dd>\n",
       "\t<dt>$theoretical_max</dt>\n",
       "\t\t<dd>90</dd>\n",
       "</dl>\n"
      ],
      "text/latex": [
       "\\begin{description}\n",
       "\\item[\\$res] \\begin{enumerate*}\n",
       "\\item 0\n",
       "\\item 1.16666666666667\n",
       "\\item 4.16666666666667\n",
       "\\item 4.33333333333333\n",
       "\\item 1.66666666666667\n",
       "\\item 0.333333333333333\n",
       "\\item 0.333333333333333\n",
       "\\end{enumerate*}\n",
       "\n",
       "\\item[\\$centralization] 0.203703703703704\n",
       "\\item[\\$theoretical\\_max] 90\n",
       "\\end{description}\n"
      ],
      "text/markdown": [
       "$res\n",
       ":   1. 0\n",
       "2. 1.16666666666667\n",
       "3. 4.16666666666667\n",
       "4. 4.33333333333333\n",
       "5. 1.66666666666667\n",
       "6. 0.333333333333333\n",
       "7. 0.333333333333333\n",
       "\n",
       "\n",
       "\n",
       "$centralization\n",
       ":   0.203703703703704\n",
       "$theoretical_max\n",
       ":   90\n",
       "\n",
       "\n"
      ],
      "text/plain": [
       "$res\n",
       "[1] 0.0000000 1.1666667 4.1666667 4.3333333 1.6666667 0.3333333 0.3333333\n",
       "\n",
       "$centralization\n",
       "[1] 0.2037037\n",
       "\n",
       "$theoretical_max\n",
       "[1] 90\n"
      ]
     },
     "metadata": {},
     "output_type": "display_data"
    }
   ],
   "source": [
    "centr_betw(W)"
   ]
  },
  {
   "cell_type": "markdown",
   "metadata": {},
   "source": [
    "** 3,4,5 shows centrality for C,D,E **"
   ]
  }
 ],
 "metadata": {
  "kernelspec": {
   "display_name": "R",
   "language": "R",
   "name": "ir"
  },
  "language_info": {
   "codemirror_mode": "r",
   "file_extension": ".r",
   "mimetype": "text/x-r-source",
   "name": "R",
   "pygments_lexer": "r",
   "version": "3.4.0"
  }
 },
 "nbformat": 4,
 "nbformat_minor": 2
}

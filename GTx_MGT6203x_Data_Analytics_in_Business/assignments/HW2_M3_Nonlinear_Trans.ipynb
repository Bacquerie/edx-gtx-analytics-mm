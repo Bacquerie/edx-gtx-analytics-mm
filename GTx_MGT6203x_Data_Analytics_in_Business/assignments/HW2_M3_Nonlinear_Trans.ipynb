{
 "cells": [
  {
   "cell_type": "markdown",
   "metadata": {},
   "source": [
    "# Nonlinear Transformation Models"
   ]
  },
  {
   "cell_type": "markdown",
   "metadata": {},
   "source": [
    "Download the EDSAL.csv file and upload it to a dataframe (in R). The three variables are Education, Experience and Salary.\n",
    "\n",
    "Run 4 linear regressions using the lm function in R. (note – you have to use the natural log; the default 'log()' function in R)\n",
    "\n",
    "- Linlin: Use Salary as the dependent variable and Experience as the independent variable.\n",
    "- Linlog: Use Salary as the dependent variable and log(Experience) as the independent variable.\n",
    "- Loglin: Use log(Salary) as the dependent variable and Experience as the independent variable.\n",
    "- Loglog: Use log(Salary) as the dependent variable and log(Experience) as the independent variable."
   ]
  },
  {
   "cell_type": "code",
   "execution_count": 1,
   "metadata": {},
   "outputs": [
    {
     "name": "stderr",
     "output_type": "stream",
     "text": [
      "Warning message:\n",
      "\"package 'ggplot2' was built under R version 3.4.4\"Warning message:\n",
      "\"package 'tidyverse' was built under R version 3.4.4\"-- Attaching packages --------------------------------------- tidyverse 1.2.1 --\n",
      "v tibble  1.4.2     v purrr   0.2.5\n",
      "v tidyr   0.8.1     v dplyr   0.7.6\n",
      "v readr   1.1.1     v stringr 1.3.1\n",
      "v tibble  1.4.2     v forcats 0.3.0\n",
      "Warning message:\n",
      "\"package 'tibble' was built under R version 3.4.4\"Warning message:\n",
      "\"package 'tidyr' was built under R version 3.4.4\"Warning message:\n",
      "\"package 'readr' was built under R version 3.4.4\"Warning message:\n",
      "\"package 'purrr' was built under R version 3.4.4\"Warning message:\n",
      "\"package 'dplyr' was built under R version 3.4.4\"Warning message:\n",
      "\"package 'stringr' was built under R version 3.4.4\"Warning message:\n",
      "\"package 'forcats' was built under R version 3.4.4\"-- Conflicts ------------------------------------------ tidyverse_conflicts() --\n",
      "x dplyr::filter() masks stats::filter()\n",
      "x dplyr::lag()    masks stats::lag()\n",
      "Warning message:\n",
      "\"package 'Ecdat' was built under R version 3.4.1\"Loading required package: Ecfun\n",
      "Warning message:\n",
      "\"package 'Ecfun' was built under R version 3.4.4\"\n",
      "Attaching package: 'Ecfun'\n",
      "\n",
      "The following object is masked from 'package:base':\n",
      "\n",
      "    sign\n",
      "\n",
      "\n",
      "Attaching package: 'Ecdat'\n",
      "\n",
      "The following object is masked from 'package:datasets':\n",
      "\n",
      "    Orange\n",
      "\n",
      "Warning message:\n",
      "\"package 'ISLR' was built under R version 3.4.4\""
     ]
    }
   ],
   "source": [
    "#load required library\n",
    "library(ggplot2) \n",
    "library(\"tidyverse\")\n",
    "library(Ecdat)\n",
    "library(ISLR)\n",
    "df<-read.csv(\"EDSAL.csv\")"
   ]
  },
  {
   "cell_type": "code",
   "execution_count": 2,
   "metadata": {},
   "outputs": [
    {
     "name": "stderr",
     "output_type": "stream",
     "text": [
      "Warning message:\n",
      "\"package 'bindrcpp' was built under R version 3.4.4\""
     ]
    },
    {
     "data": {
      "text/html": [
       "<table>\n",
       "<thead><tr><th scope=col>Education</th><th scope=col>Experience</th><th scope=col>Salary</th><th scope=col>ln_Salary</th><th scope=col>ln_Experience</th></tr></thead>\n",
       "<tbody>\n",
       "\t<tr><td>HS       </td><td> 2       </td><td> 34.43222</td><td>3.538993 </td><td>0.6931472</td></tr>\n",
       "\t<tr><td>HS       </td><td>14       </td><td> 59.15737</td><td>4.080201 </td><td>2.6390573</td></tr>\n",
       "\t<tr><td>HS       </td><td>36       </td><td>113.27017</td><td>4.729776 </td><td>3.5835189</td></tr>\n",
       "\t<tr><td>HS       </td><td>16       </td><td> 69.14739</td><td>4.236240 </td><td>2.7725887</td></tr>\n",
       "\t<tr><td>HS       </td><td>36       </td><td>106.01556</td><td>4.663586 </td><td>3.5835189</td></tr>\n",
       "\t<tr><td>HS       </td><td>33       </td><td> 58.63413</td><td>4.071317 </td><td>3.4965076</td></tr>\n",
       "</tbody>\n",
       "</table>\n"
      ],
      "text/latex": [
       "\\begin{tabular}{r|lllll}\n",
       " Education & Experience & Salary & ln\\_Salary & ln\\_Experience\\\\\n",
       "\\hline\n",
       "\t HS        &  2        &  34.43222 & 3.538993  & 0.6931472\\\\\n",
       "\t HS        & 14        &  59.15737 & 4.080201  & 2.6390573\\\\\n",
       "\t HS        & 36        & 113.27017 & 4.729776  & 3.5835189\\\\\n",
       "\t HS        & 16        &  69.14739 & 4.236240  & 2.7725887\\\\\n",
       "\t HS        & 36        & 106.01556 & 4.663586  & 3.5835189\\\\\n",
       "\t HS        & 33        &  58.63413 & 4.071317  & 3.4965076\\\\\n",
       "\\end{tabular}\n"
      ],
      "text/markdown": [
       "\n",
       "Education | Experience | Salary | ln_Salary | ln_Experience | \n",
       "|---|---|---|---|---|---|\n",
       "| HS        |  2        |  34.43222 | 3.538993  | 0.6931472 | \n",
       "| HS        | 14        |  59.15737 | 4.080201  | 2.6390573 | \n",
       "| HS        | 36        | 113.27017 | 4.729776  | 3.5835189 | \n",
       "| HS        | 16        |  69.14739 | 4.236240  | 2.7725887 | \n",
       "| HS        | 36        | 106.01556 | 4.663586  | 3.5835189 | \n",
       "| HS        | 33        |  58.63413 | 4.071317  | 3.4965076 | \n",
       "\n",
       "\n"
      ],
      "text/plain": [
       "  Education Experience Salary    ln_Salary ln_Experience\n",
       "1 HS         2          34.43222 3.538993  0.6931472    \n",
       "2 HS        14          59.15737 4.080201  2.6390573    \n",
       "3 HS        36         113.27017 4.729776  3.5835189    \n",
       "4 HS        16          69.14739 4.236240  2.7725887    \n",
       "5 HS        36         106.01556 4.663586  3.5835189    \n",
       "6 HS        33          58.63413 4.071317  3.4965076    "
      ]
     },
     "metadata": {},
     "output_type": "display_data"
    }
   ],
   "source": [
    "df<- df %>%\n",
    "    mutate(ln_Salary=log(Salary)) %>%\n",
    "    mutate(ln_Experience=log(Experience))\n",
    "head(df)"
   ]
  },
  {
   "cell_type": "code",
   "execution_count": 3,
   "metadata": {},
   "outputs": [],
   "source": [
    "linlin<-lm(formula=Salary~Experience,data=df)\n",
    "linlog<-lm(formula=Salary~ln_Experience,data=df)\n",
    "loglin<-lm(formula=ln_Salary~Experience,data=df)\n",
    "loglog<-lm(formula=ln_Salary~ln_Experience,data=df)"
   ]
  },
  {
   "cell_type": "code",
   "execution_count": 6,
   "metadata": {},
   "outputs": [
    {
     "data": {
      "text/html": [
       "0.721804392658546"
      ],
      "text/latex": [
       "0.721804392658546"
      ],
      "text/markdown": [
       "0.721804392658546"
      ],
      "text/plain": [
       "[1] 0.7218044"
      ]
     },
     "metadata": {},
     "output_type": "display_data"
    },
    {
     "data": {
      "text/html": [
       "0.58579759504872"
      ],
      "text/latex": [
       "0.58579759504872"
      ],
      "text/markdown": [
       "0.58579759504872"
      ],
      "text/plain": [
       "[1] 0.5857976"
      ]
     },
     "metadata": {},
     "output_type": "display_data"
    },
    {
     "data": {
      "text/html": [
       "0.74337221251753"
      ],
      "text/latex": [
       "0.74337221251753"
      ],
      "text/markdown": [
       "0.74337221251753"
      ],
      "text/plain": [
       "[1] 0.7433722"
      ]
     },
     "metadata": {},
     "output_type": "display_data"
    },
    {
     "data": {
      "text/html": [
       "0.725215881517502"
      ],
      "text/latex": [
       "0.725215881517502"
      ],
      "text/markdown": [
       "0.725215881517502"
      ],
      "text/plain": [
       "[1] 0.7252159"
      ]
     },
     "metadata": {},
     "output_type": "display_data"
    },
    {
     "data": {
      "text/html": [
       "<strong>Experience:</strong> 3.09593723301877"
      ],
      "text/latex": [
       "\\textbf{Experience:} 3.09593723301877"
      ],
      "text/markdown": [
       "**Experience:** 3.09593723301877"
      ],
      "text/plain": [
       "Experience \n",
       "  3.095937 "
      ]
     },
     "metadata": {},
     "output_type": "display_data"
    },
    {
     "data": {
      "text/html": [
       "<strong>ln_Experience:</strong> 34.9850496381326"
      ],
      "text/latex": [
       "\\textbf{ln\\textbackslash{}\\_Experience:} 34.9850496381326"
      ],
      "text/markdown": [
       "**ln_Experience:** 34.9850496381326"
      ],
      "text/plain": [
       "ln_Experience \n",
       "     34.98505 "
      ]
     },
     "metadata": {},
     "output_type": "display_data"
    },
    {
     "data": {
      "text/html": [
       "<strong>Experience:</strong> 0.0370867972437562"
      ],
      "text/latex": [
       "\\textbf{Experience:} 0.0370867972437562"
      ],
      "text/markdown": [
       "**Experience:** 0.0370867972437562"
      ],
      "text/plain": [
       "Experience \n",
       " 0.0370868 "
      ]
     },
     "metadata": {},
     "output_type": "display_data"
    },
    {
     "data": {
      "text/html": [
       "<strong>ln_Experience:</strong> 0.459490076989543"
      ],
      "text/latex": [
       "\\textbf{ln\\textbackslash{}\\_Experience:} 0.459490076989543"
      ],
      "text/markdown": [
       "**ln_Experience:** 0.459490076989543"
      ],
      "text/plain": [
       "ln_Experience \n",
       "    0.4594901 "
      ]
     },
     "metadata": {},
     "output_type": "display_data"
    }
   ],
   "source": [
    "summary(linlin)$r.squared \n",
    "summary(linlog)$r.squared \n",
    "summary(loglin)$r.squared \n",
    "summary(loglog)$r.squared \n",
    "linlin$coefficients['Experience']\n",
    "linlog$coefficients['ln_Experience']\n",
    "loglin$coefficients['Experience']\n",
    "loglog$coefficients['ln_Experience']\n"
   ]
  },
  {
   "cell_type": "markdown",
   "metadata": {},
   "source": [
    "- ** Which of the 4 fitted models has the lowest R-square value? 0.5858 linlog ** \n",
    "\n",
    "- ** Which of the 4 fitted models has the highest R-square value? 0.7434 loglin **\n",
    "\n",
    "- ** What is the interpretation of the slope coefficient for the Linlin model ? <br> Increasing Experience by 1 unit leads to 3.0959 units increase in Salary** \n",
    "\n",
    "- ** What is the interpretation of the slope coefficient for the Linlog model?<br> Increasing Experience by 1% leads to 0.01*34.985 units increase in Salary **\n",
    "\n",
    "- ** What is the interpretation of the slope coefficient for the Loglin model ?<br> Increasing Experience by 1 unit leads to (0.037087 *100) % increase in Salary **\n",
    "- ** Increasing Experience by 1 unit leads to (0.037087 *100) % increase in Salary ? <br> Increasing Experience by 1% leads to 0.45949% increase in Salary **"
   ]
  }
 ],
 "metadata": {
  "kernelspec": {
   "display_name": "R",
   "language": "R",
   "name": "ir"
  },
  "language_info": {
   "codemirror_mode": "r",
   "file_extension": ".r",
   "mimetype": "text/x-r-source",
   "name": "R",
   "pygments_lexer": "r",
   "version": "3.4.0"
  }
 },
 "nbformat": 4,
 "nbformat_minor": 2
}

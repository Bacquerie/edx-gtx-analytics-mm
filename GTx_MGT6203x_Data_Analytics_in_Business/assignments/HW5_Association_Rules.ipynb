{
 "cells": [
  {
   "cell_type": "markdown",
   "metadata": {},
   "source": [
    "![Question](img/mb.JPG)"
   ]
  },
  {
   "cell_type": "markdown",
   "metadata": {},
   "source": [
    "** What is the support of each of the following individual items respectively? **\n",
    "\n",
    "•\tBananas\n",
    "\n",
    "•\tBeer\n",
    "\n",
    "•\tBread\n",
    "\n",
    "•\tCoke\n",
    "\n",
    "•\tEggs\n",
    "\n",
    "•\tMilk"
   ]
  },
  {
   "cell_type": "code",
   "execution_count": 1,
   "metadata": {},
   "outputs": [
    {
     "data": {
      "text/html": [
       "0.8"
      ],
      "text/latex": [
       "0.8"
      ],
      "text/markdown": [
       "0.8"
      ],
      "text/plain": [
       "[1] 0.8"
      ]
     },
     "metadata": {},
     "output_type": "display_data"
    },
    {
     "data": {
      "text/html": [
       "0.6"
      ],
      "text/latex": [
       "0.6"
      ],
      "text/markdown": [
       "0.6"
      ],
      "text/plain": [
       "[1] 0.6"
      ]
     },
     "metadata": {},
     "output_type": "display_data"
    },
    {
     "data": {
      "text/html": [
       "0.8"
      ],
      "text/latex": [
       "0.8"
      ],
      "text/markdown": [
       "0.8"
      ],
      "text/plain": [
       "[1] 0.8"
      ]
     },
     "metadata": {},
     "output_type": "display_data"
    },
    {
     "data": {
      "text/html": [
       "0.4"
      ],
      "text/latex": [
       "0.4"
      ],
      "text/markdown": [
       "0.4"
      ],
      "text/plain": [
       "[1] 0.4"
      ]
     },
     "metadata": {},
     "output_type": "display_data"
    },
    {
     "data": {
      "text/html": [
       "0.2"
      ],
      "text/latex": [
       "0.2"
      ],
      "text/markdown": [
       "0.2"
      ],
      "text/plain": [
       "[1] 0.2"
      ]
     },
     "metadata": {},
     "output_type": "display_data"
    },
    {
     "data": {
      "text/html": [
       "0.8"
      ],
      "text/latex": [
       "0.8"
      ],
      "text/markdown": [
       "0.8"
      ],
      "text/plain": [
       "[1] 0.8"
      ]
     },
     "metadata": {},
     "output_type": "display_data"
    }
   ],
   "source": [
    "s_banana=4/5\n",
    "s_beer=3/5\n",
    "s_bread=4/5\n",
    "s_coke=2/5\n",
    "s_eggs=1/5\n",
    "s_milk=4/5\n",
    "s_banana\n",
    "s_beer\n",
    "s_bread\n",
    "s_coke\n",
    "s_eggs\n",
    "s_milk"
   ]
  },
  {
   "cell_type": "markdown",
   "metadata": {},
   "source": [
    "** What is the support of the following? (Respectively) **\n",
    "\n",
    "{Bread, Bananas}\n",
    "\n",
    "{Bread, Beer}\n",
    "\n",
    "{Bananas, Beer}\n",
    "\n",
    "{Bread, Milk, Bananas}\n",
    "\n",
    "** support(x)=total number of occurance of x/total observtion **"
   ]
  },
  {
   "cell_type": "code",
   "execution_count": 2,
   "metadata": {},
   "outputs": [
    {
     "data": {
      "text/html": [
       "0.6"
      ],
      "text/latex": [
       "0.6"
      ],
      "text/markdown": [
       "0.6"
      ],
      "text/plain": [
       "[1] 0.6"
      ]
     },
     "metadata": {},
     "output_type": "display_data"
    },
    {
     "data": {
      "text/html": [
       "0.4"
      ],
      "text/latex": [
       "0.4"
      ],
      "text/markdown": [
       "0.4"
      ],
      "text/plain": [
       "[1] 0.4"
      ]
     },
     "metadata": {},
     "output_type": "display_data"
    },
    {
     "data": {
      "text/html": [
       "0.6"
      ],
      "text/latex": [
       "0.6"
      ],
      "text/markdown": [
       "0.6"
      ],
      "text/plain": [
       "[1] 0.6"
      ]
     },
     "metadata": {},
     "output_type": "display_data"
    },
    {
     "data": {
      "text/html": [
       "0.4"
      ],
      "text/latex": [
       "0.4"
      ],
      "text/markdown": [
       "0.4"
      ],
      "text/plain": [
       "[1] 0.4"
      ]
     },
     "metadata": {},
     "output_type": "display_data"
    }
   ],
   "source": [
    "n_bba=3/5\n",
    "n_bbeer=2/5\n",
    "n_babeer=3/5\n",
    "n_bmb=2/5\n",
    "n_bba\n",
    "n_bbeer\n",
    "n_babeer\n",
    "n_bmb"
   ]
  },
  {
   "cell_type": "markdown",
   "metadata": {},
   "source": [
    "** Calculate the confidence of the following Association rules respectively: **\n",
    "\n",
    "{Beer, Bread → Bananas}\n",
    "\n",
    "{Beer, Milk → Bananas}\n",
    "\n",
    "{Beer, Milk → Bread}\n",
    "\n",
    "{Coke, Milk → Bread}\n",
    "\n",
    "** confidence(X->Y)= support(X,Y)/s(X)=n(X,Y)/n(X) **\n",
    "\n",
    "** s:Support **\n",
    "\n",
    "** n:number of occurance **"
   ]
  },
  {
   "cell_type": "code",
   "execution_count": 3,
   "metadata": {},
   "outputs": [
    {
     "data": {
      "text/html": [
       "1"
      ],
      "text/latex": [
       "1"
      ],
      "text/markdown": [
       "1"
      ],
      "text/plain": [
       "[1] 1"
      ]
     },
     "metadata": {},
     "output_type": "display_data"
    },
    {
     "data": {
      "text/html": [
       "1"
      ],
      "text/latex": [
       "1"
      ],
      "text/markdown": [
       "1"
      ],
      "text/plain": [
       "[1] 1"
      ]
     },
     "metadata": {},
     "output_type": "display_data"
    },
    {
     "data": {
      "text/html": [
       "0.5"
      ],
      "text/latex": [
       "0.5"
      ],
      "text/markdown": [
       "0.5"
      ],
      "text/plain": [
       "[1] 0.5"
      ]
     },
     "metadata": {},
     "output_type": "display_data"
    },
    {
     "data": {
      "text/html": [
       "0.5"
      ],
      "text/latex": [
       "0.5"
      ],
      "text/markdown": [
       "0.5"
      ],
      "text/plain": [
       "[1] 0.5"
      ]
     },
     "metadata": {},
     "output_type": "display_data"
    }
   ],
   "source": [
    "c_bbabeer=2/2\n",
    "c_bmba=2/2\n",
    "c_bmbr=1/2\n",
    "c_cmb=1/2\n",
    "c_bbabeer\n",
    "c_bmba\n",
    "c_bmbr\n",
    "c_cmb"
   ]
  },
  {
   "cell_type": "markdown",
   "metadata": {},
   "source": [
    "** Calculate the Lift of the following Association rules respectively: **\n",
    "\n",
    "{Beer, Bread → Bananas}\n",
    "\n",
    "{Beer, Milk → Bananas}\n",
    "\n",
    "{Beer, Milk → Bread}\n",
    "\n",
    "{Coke, Milk → Bread}\n",
    "\n",
    "** Lift(X->Y)= c(X->Y)/s(Y)=s(X->Y)/(s(X)*s(Y)) **\n",
    "\n",
    "** s:support **\n",
    "\n",
    "** c:confidence **"
   ]
  },
  {
   "cell_type": "code",
   "execution_count": 4,
   "metadata": {},
   "outputs": [
    {
     "data": {
      "text/html": [
       "1.25"
      ],
      "text/latex": [
       "1.25"
      ],
      "text/markdown": [
       "1.25"
      ],
      "text/plain": [
       "[1] 1.25"
      ]
     },
     "metadata": {},
     "output_type": "display_data"
    },
    {
     "data": {
      "text/html": [
       "1.25"
      ],
      "text/latex": [
       "1.25"
      ],
      "text/markdown": [
       "1.25"
      ],
      "text/plain": [
       "[1] 1.25"
      ]
     },
     "metadata": {},
     "output_type": "display_data"
    },
    {
     "data": {
      "text/html": [
       "0.625"
      ],
      "text/latex": [
       "0.625"
      ],
      "text/markdown": [
       "0.625"
      ],
      "text/plain": [
       "[1] 0.625"
      ]
     },
     "metadata": {},
     "output_type": "display_data"
    },
    {
     "data": {
      "text/html": [
       "0.625"
      ],
      "text/latex": [
       "0.625"
      ],
      "text/markdown": [
       "0.625"
      ],
      "text/plain": [
       "[1] 0.625"
      ]
     },
     "metadata": {},
     "output_type": "display_data"
    }
   ],
   "source": [
    "l_bbb=(c_bbabeer/4)*5\n",
    "l_bmba=(c_bmba/4)*5\n",
    "l_bmbr=(c_bmbr/4)*5\n",
    "l_cmb=(c_cmb/4)*5\n",
    "l_bbb\n",
    "l_bmba\n",
    "l_bmbr\n",
    "l_cmb"
   ]
  },
  {
   "cell_type": "markdown",
   "metadata": {},
   "source": [
    "![Question5](img/q5.JPG)"
   ]
  },
  {
   "cell_type": "markdown",
   "metadata": {},
   "source": [
    "** Lift(X->Y) = (n(X,Y)*N)/(n(X)*n(Y)) **\n",
    "\n",
    "** n(X)= number of occurance of X **\n",
    "\n",
    "** N= Total number of observation **\n"
   ]
  },
  {
   "cell_type": "code",
   "execution_count": 5,
   "metadata": {},
   "outputs": [
    {
     "data": {
      "text/html": [
       "0.727272727272727"
      ],
      "text/latex": [
       "0.727272727272727"
      ],
      "text/markdown": [
       "0.727272727272727"
      ],
      "text/plain": [
       "[1] 0.7272727"
      ]
     },
     "metadata": {},
     "output_type": "display_data"
    },
    {
     "data": {
      "text/html": [
       "1.33333333333333"
      ],
      "text/latex": [
       "1.33333333333333"
      ],
      "text/markdown": [
       "1.33333333333333"
      ],
      "text/plain": [
       "[1] 1.333333"
      ]
     },
     "metadata": {},
     "output_type": "display_data"
    },
    {
     "data": {
      "text/html": [
       "1.27272727272727"
      ],
      "text/latex": [
       "1.27272727272727"
      ],
      "text/markdown": [
       "1.27272727272727"
      ],
      "text/plain": [
       "[1] 1.272727"
      ]
     },
     "metadata": {},
     "output_type": "display_data"
    },
    {
     "data": {
      "text/html": [
       "0.666666666666667"
      ],
      "text/latex": [
       "0.666666666666667"
      ],
      "text/markdown": [
       "0.666666666666667"
      ],
      "text/plain": [
       "[1] 0.6666667"
      ]
     },
     "metadata": {},
     "output_type": "display_data"
    }
   ],
   "source": [
    "l_soda_pizza=(200*1000)/(500*550)\n",
    "l_pasta_soda=(300*1000)/(450*500)\n",
    "l_coffe_pizza=(350*1000)/(500*550)\n",
    "l_pasta_coffee=(150*1000)/(450*500)\n",
    "l_soda_pizza\n",
    "l_pasta_soda\n",
    "l_coffe_pizza\n",
    "l_pasta_coffee"
   ]
  }
 ],
 "metadata": {
  "kernelspec": {
   "display_name": "R",
   "language": "R",
   "name": "ir"
  },
  "language_info": {
   "codemirror_mode": "r",
   "file_extension": ".r",
   "mimetype": "text/x-r-source",
   "name": "R",
   "pygments_lexer": "r",
   "version": "3.4.0"
  }
 },
 "nbformat": 4,
 "nbformat_minor": 2
}

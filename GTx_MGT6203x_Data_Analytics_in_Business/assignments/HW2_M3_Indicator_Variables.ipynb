{
 "cells": [
  {
   "cell_type": "markdown",
   "metadata": {},
   "source": [
    "# Indicator Variable and Interaction Term"
   ]
  },
  {
   "cell_type": "markdown",
   "metadata": {},
   "source": [
    "Load the dataset named Carseats (in the ISLR package) into R.\n",
    "\n",
    " \n",
    "\n",
    "Background Information\n",
    "\n",
    "Carseats is a simulated dataset in the ISLR package with sales of child car seats at 400 different stores. The 11 variables are:\n",
    "\n",
    "str(Carseats)\n",
    "\n",
    " \n",
    "\n",
    "- Sales: Unit sales (in thousands) at each location\n",
    "\n",
    "- CompPrice: Price charged by competitor at each location\n",
    "\n",
    "- Income: Community income level (in thousands of dollars)\n",
    "\n",
    "- Advertising: Local advertising budget for company at each location (in thousands of dollars)\n",
    "\n",
    "- Population: Population size in region (in thousands)\n",
    "\n",
    "- Price: Price company charges for car seats at each site\n",
    "\n",
    "- ShelveLoc: A factor with levels Bad, Good and Medium indicating the quality of the shelving location for the car seats at each site\n",
    "\n",
    "- Age: Average age of the local population\n",
    "\n",
    "- Education: Education level at each location\n",
    "\n",
    "- Urban: A factor with levels No and Yes to indicate whether the store is in an urban or rural location\n",
    "\n",
    "- US: A factor with levels No and Yes to indicate whether the store is in the US or not\n",
    "\n",
    " "
   ]
  },
  {
   "cell_type": "code",
   "execution_count": 1,
   "metadata": {},
   "outputs": [
    {
     "name": "stderr",
     "output_type": "stream",
     "text": [
      "Warning message:\n",
      "\"package 'ggplot2' was built under R version 3.4.4\"Warning message:\n",
      "\"package 'tidyverse' was built under R version 3.4.4\"-- Attaching packages --------------------------------------- tidyverse 1.2.1 --\n",
      "v tibble  1.4.2     v purrr   0.2.5\n",
      "v tidyr   0.8.1     v dplyr   0.7.6\n",
      "v readr   1.1.1     v stringr 1.3.1\n",
      "v tibble  1.4.2     v forcats 0.3.0\n",
      "Warning message:\n",
      "\"package 'tibble' was built under R version 3.4.4\"Warning message:\n",
      "\"package 'tidyr' was built under R version 3.4.4\"Warning message:\n",
      "\"package 'readr' was built under R version 3.4.4\"Warning message:\n",
      "\"package 'purrr' was built under R version 3.4.4\"Warning message:\n",
      "\"package 'dplyr' was built under R version 3.4.4\"Warning message:\n",
      "\"package 'stringr' was built under R version 3.4.4\"Warning message:\n",
      "\"package 'forcats' was built under R version 3.4.4\"-- Conflicts ------------------------------------------ tidyverse_conflicts() --\n",
      "x dplyr::filter() masks stats::filter()\n",
      "x dplyr::lag()    masks stats::lag()\n",
      "Warning message:\n",
      "\"package 'Ecdat' was built under R version 3.4.1\"Loading required package: Ecfun\n",
      "Warning message:\n",
      "\"package 'Ecfun' was built under R version 3.4.4\"\n",
      "Attaching package: 'Ecfun'\n",
      "\n",
      "The following object is masked from 'package:base':\n",
      "\n",
      "    sign\n",
      "\n",
      "\n",
      "Attaching package: 'Ecdat'\n",
      "\n",
      "The following object is masked from 'package:datasets':\n",
      "\n",
      "    Orange\n",
      "\n",
      "Warning message:\n",
      "\"package 'ISLR' was built under R version 3.4.4\""
     ]
    },
    {
     "name": "stdout",
     "output_type": "stream",
     "text": [
      "'data.frame':\t400 obs. of  11 variables:\n",
      " $ Sales      : num  9.5 11.22 10.06 7.4 4.15 ...\n",
      " $ CompPrice  : num  138 111 113 117 141 124 115 136 132 132 ...\n",
      " $ Income     : num  73 48 35 100 64 113 105 81 110 113 ...\n",
      " $ Advertising: num  11 16 10 4 3 13 0 15 0 0 ...\n",
      " $ Population : num  276 260 269 466 340 501 45 425 108 131 ...\n",
      " $ Price      : num  120 83 80 97 128 72 108 120 124 124 ...\n",
      " $ ShelveLoc  : Factor w/ 3 levels \"Bad\",\"Good\",\"Medium\": 1 2 3 3 1 1 3 2 3 3 ...\n",
      " $ Age        : num  42 65 59 55 38 78 71 67 76 76 ...\n",
      " $ Education  : num  17 10 12 14 13 16 15 10 10 17 ...\n",
      " $ Urban      : Factor w/ 2 levels \"No\",\"Yes\": 2 2 2 2 2 1 2 2 1 1 ...\n",
      " $ US         : Factor w/ 2 levels \"No\",\"Yes\": 2 2 2 2 1 2 1 2 1 2 ...\n"
     ]
    }
   ],
   "source": [
    "library(ggplot2) \n",
    "library(\"tidyverse\")\n",
    "library(Ecdat)\n",
    "library(ISLR)\n",
    "str(Carseats)"
   ]
  },
  {
   "cell_type": "markdown",
   "metadata": {},
   "source": [
    "Create a new dataframe (call it C1) that is a copy of Carseats. <br>Create two indicator (dummy) variables:\n",
    "\n",
    "- Bad_Shelf = 1 if ShelveLoc = “Bad”, 0 otherwise\n",
    "- Good_Shelf = 1 if ShelveLoc = “Good”, 0 otherwise\n",
    " \n"
   ]
  },
  {
   "cell_type": "code",
   "execution_count": 2,
   "metadata": {},
   "outputs": [
    {
     "name": "stderr",
     "output_type": "stream",
     "text": [
      "Warning message:\n",
      "\"package 'bindrcpp' was built under R version 3.4.4\""
     ]
    },
    {
     "data": {
      "text/html": [
       "<table>\n",
       "<thead><tr><th scope=col>Sales</th><th scope=col>CompPrice</th><th scope=col>Income</th><th scope=col>Advertising</th><th scope=col>Population</th><th scope=col>Price</th><th scope=col>ShelveLoc</th><th scope=col>Age</th><th scope=col>Education</th><th scope=col>Urban</th><th scope=col>US</th><th scope=col>Bad_Shelf</th><th scope=col>Good_Shelf</th></tr></thead>\n",
       "<tbody>\n",
       "\t<tr><td> 9.50 </td><td>138   </td><td> 73   </td><td>11    </td><td>276   </td><td>120   </td><td>Bad   </td><td>42    </td><td>17    </td><td>Yes   </td><td>Yes   </td><td>1     </td><td>0     </td></tr>\n",
       "\t<tr><td>11.22 </td><td>111   </td><td> 48   </td><td>16    </td><td>260   </td><td> 83   </td><td>Good  </td><td>65    </td><td>10    </td><td>Yes   </td><td>Yes   </td><td>0     </td><td>1     </td></tr>\n",
       "\t<tr><td>10.06 </td><td>113   </td><td> 35   </td><td>10    </td><td>269   </td><td> 80   </td><td>Medium</td><td>59    </td><td>12    </td><td>Yes   </td><td>Yes   </td><td>0     </td><td>0     </td></tr>\n",
       "\t<tr><td> 7.40 </td><td>117   </td><td>100   </td><td> 4    </td><td>466   </td><td> 97   </td><td>Medium</td><td>55    </td><td>14    </td><td>Yes   </td><td>Yes   </td><td>0     </td><td>0     </td></tr>\n",
       "\t<tr><td> 4.15 </td><td>141   </td><td> 64   </td><td> 3    </td><td>340   </td><td>128   </td><td>Bad   </td><td>38    </td><td>13    </td><td>Yes   </td><td>No    </td><td>1     </td><td>0     </td></tr>\n",
       "\t<tr><td>10.81 </td><td>124   </td><td>113   </td><td>13    </td><td>501   </td><td> 72   </td><td>Bad   </td><td>78    </td><td>16    </td><td>No    </td><td>Yes   </td><td>1     </td><td>0     </td></tr>\n",
       "\t<tr><td> 6.63 </td><td>115   </td><td>105   </td><td> 0    </td><td> 45   </td><td>108   </td><td>Medium</td><td>71    </td><td>15    </td><td>Yes   </td><td>No    </td><td>0     </td><td>0     </td></tr>\n",
       "\t<tr><td>11.85 </td><td>136   </td><td> 81   </td><td>15    </td><td>425   </td><td>120   </td><td>Good  </td><td>67    </td><td>10    </td><td>Yes   </td><td>Yes   </td><td>0     </td><td>1     </td></tr>\n",
       "\t<tr><td> 6.54 </td><td>132   </td><td>110   </td><td> 0    </td><td>108   </td><td>124   </td><td>Medium</td><td>76    </td><td>10    </td><td>No    </td><td>No    </td><td>0     </td><td>0     </td></tr>\n",
       "\t<tr><td> 4.69 </td><td>132   </td><td>113   </td><td> 0    </td><td>131   </td><td>124   </td><td>Medium</td><td>76    </td><td>17    </td><td>No    </td><td>Yes   </td><td>0     </td><td>0     </td></tr>\n",
       "\t<tr><td> 9.01 </td><td>121   </td><td> 78   </td><td> 9    </td><td>150   </td><td>100   </td><td>Bad   </td><td>26    </td><td>10    </td><td>No    </td><td>Yes   </td><td>1     </td><td>0     </td></tr>\n",
       "\t<tr><td>11.96 </td><td>117   </td><td> 94   </td><td> 4    </td><td>503   </td><td> 94   </td><td>Good  </td><td>50    </td><td>13    </td><td>Yes   </td><td>Yes   </td><td>0     </td><td>1     </td></tr>\n",
       "\t<tr><td> 3.98 </td><td>122   </td><td> 35   </td><td> 2    </td><td>393   </td><td>136   </td><td>Medium</td><td>62    </td><td>18    </td><td>Yes   </td><td>No    </td><td>0     </td><td>0     </td></tr>\n",
       "\t<tr><td>10.96 </td><td>115   </td><td> 28   </td><td>11    </td><td> 29   </td><td> 86   </td><td>Good  </td><td>53    </td><td>18    </td><td>Yes   </td><td>Yes   </td><td>0     </td><td>1     </td></tr>\n",
       "\t<tr><td>11.17 </td><td>107   </td><td>117   </td><td>11    </td><td>148   </td><td>118   </td><td>Good  </td><td>52    </td><td>18    </td><td>Yes   </td><td>Yes   </td><td>0     </td><td>1     </td></tr>\n",
       "\t<tr><td> 8.71 </td><td>149   </td><td> 95   </td><td> 5    </td><td>400   </td><td>144   </td><td>Medium</td><td>76    </td><td>18    </td><td>No    </td><td>No    </td><td>0     </td><td>0     </td></tr>\n",
       "\t<tr><td> 7.58 </td><td>118   </td><td> 32   </td><td> 0    </td><td>284   </td><td>110   </td><td>Good  </td><td>63    </td><td>13    </td><td>Yes   </td><td>No    </td><td>0     </td><td>1     </td></tr>\n",
       "\t<tr><td>12.29 </td><td>147   </td><td> 74   </td><td>13    </td><td>251   </td><td>131   </td><td>Good  </td><td>52    </td><td>10    </td><td>Yes   </td><td>Yes   </td><td>0     </td><td>1     </td></tr>\n",
       "\t<tr><td>13.91 </td><td>110   </td><td>110   </td><td> 0    </td><td>408   </td><td> 68   </td><td>Good  </td><td>46    </td><td>17    </td><td>No    </td><td>Yes   </td><td>0     </td><td>1     </td></tr>\n",
       "\t<tr><td> 8.73 </td><td>129   </td><td> 76   </td><td>16    </td><td> 58   </td><td>121   </td><td>Medium</td><td>69    </td><td>12    </td><td>Yes   </td><td>Yes   </td><td>0     </td><td>0     </td></tr>\n",
       "</tbody>\n",
       "</table>\n"
      ],
      "text/latex": [
       "\\begin{tabular}{r|lllllllllllll}\n",
       " Sales & CompPrice & Income & Advertising & Population & Price & ShelveLoc & Age & Education & Urban & US & Bad\\_Shelf & Good\\_Shelf\\\\\n",
       "\\hline\n",
       "\t  9.50  & 138    &  73    & 11     & 276    & 120    & Bad    & 42     & 17     & Yes    & Yes    & 1      & 0     \\\\\n",
       "\t 11.22  & 111    &  48    & 16     & 260    &  83    & Good   & 65     & 10     & Yes    & Yes    & 0      & 1     \\\\\n",
       "\t 10.06  & 113    &  35    & 10     & 269    &  80    & Medium & 59     & 12     & Yes    & Yes    & 0      & 0     \\\\\n",
       "\t  7.40  & 117    & 100    &  4     & 466    &  97    & Medium & 55     & 14     & Yes    & Yes    & 0      & 0     \\\\\n",
       "\t  4.15  & 141    &  64    &  3     & 340    & 128    & Bad    & 38     & 13     & Yes    & No     & 1      & 0     \\\\\n",
       "\t 10.81  & 124    & 113    & 13     & 501    &  72    & Bad    & 78     & 16     & No     & Yes    & 1      & 0     \\\\\n",
       "\t  6.63  & 115    & 105    &  0     &  45    & 108    & Medium & 71     & 15     & Yes    & No     & 0      & 0     \\\\\n",
       "\t 11.85  & 136    &  81    & 15     & 425    & 120    & Good   & 67     & 10     & Yes    & Yes    & 0      & 1     \\\\\n",
       "\t  6.54  & 132    & 110    &  0     & 108    & 124    & Medium & 76     & 10     & No     & No     & 0      & 0     \\\\\n",
       "\t  4.69  & 132    & 113    &  0     & 131    & 124    & Medium & 76     & 17     & No     & Yes    & 0      & 0     \\\\\n",
       "\t  9.01  & 121    &  78    &  9     & 150    & 100    & Bad    & 26     & 10     & No     & Yes    & 1      & 0     \\\\\n",
       "\t 11.96  & 117    &  94    &  4     & 503    &  94    & Good   & 50     & 13     & Yes    & Yes    & 0      & 1     \\\\\n",
       "\t  3.98  & 122    &  35    &  2     & 393    & 136    & Medium & 62     & 18     & Yes    & No     & 0      & 0     \\\\\n",
       "\t 10.96  & 115    &  28    & 11     &  29    &  86    & Good   & 53     & 18     & Yes    & Yes    & 0      & 1     \\\\\n",
       "\t 11.17  & 107    & 117    & 11     & 148    & 118    & Good   & 52     & 18     & Yes    & Yes    & 0      & 1     \\\\\n",
       "\t  8.71  & 149    &  95    &  5     & 400    & 144    & Medium & 76     & 18     & No     & No     & 0      & 0     \\\\\n",
       "\t  7.58  & 118    &  32    &  0     & 284    & 110    & Good   & 63     & 13     & Yes    & No     & 0      & 1     \\\\\n",
       "\t 12.29  & 147    &  74    & 13     & 251    & 131    & Good   & 52     & 10     & Yes    & Yes    & 0      & 1     \\\\\n",
       "\t 13.91  & 110    & 110    &  0     & 408    &  68    & Good   & 46     & 17     & No     & Yes    & 0      & 1     \\\\\n",
       "\t  8.73  & 129    &  76    & 16     &  58    & 121    & Medium & 69     & 12     & Yes    & Yes    & 0      & 0     \\\\\n",
       "\\end{tabular}\n"
      ],
      "text/markdown": [
       "\n",
       "Sales | CompPrice | Income | Advertising | Population | Price | ShelveLoc | Age | Education | Urban | US | Bad_Shelf | Good_Shelf | \n",
       "|---|---|---|---|---|---|---|---|---|---|---|---|---|---|---|---|---|---|---|---|\n",
       "|  9.50  | 138    |  73    | 11     | 276    | 120    | Bad    | 42     | 17     | Yes    | Yes    | 1      | 0      | \n",
       "| 11.22  | 111    |  48    | 16     | 260    |  83    | Good   | 65     | 10     | Yes    | Yes    | 0      | 1      | \n",
       "| 10.06  | 113    |  35    | 10     | 269    |  80    | Medium | 59     | 12     | Yes    | Yes    | 0      | 0      | \n",
       "|  7.40  | 117    | 100    |  4     | 466    |  97    | Medium | 55     | 14     | Yes    | Yes    | 0      | 0      | \n",
       "|  4.15  | 141    |  64    |  3     | 340    | 128    | Bad    | 38     | 13     | Yes    | No     | 1      | 0      | \n",
       "| 10.81  | 124    | 113    | 13     | 501    |  72    | Bad    | 78     | 16     | No     | Yes    | 1      | 0      | \n",
       "|  6.63  | 115    | 105    |  0     |  45    | 108    | Medium | 71     | 15     | Yes    | No     | 0      | 0      | \n",
       "| 11.85  | 136    |  81    | 15     | 425    | 120    | Good   | 67     | 10     | Yes    | Yes    | 0      | 1      | \n",
       "|  6.54  | 132    | 110    |  0     | 108    | 124    | Medium | 76     | 10     | No     | No     | 0      | 0      | \n",
       "|  4.69  | 132    | 113    |  0     | 131    | 124    | Medium | 76     | 17     | No     | Yes    | 0      | 0      | \n",
       "|  9.01  | 121    |  78    |  9     | 150    | 100    | Bad    | 26     | 10     | No     | Yes    | 1      | 0      | \n",
       "| 11.96  | 117    |  94    |  4     | 503    |  94    | Good   | 50     | 13     | Yes    | Yes    | 0      | 1      | \n",
       "|  3.98  | 122    |  35    |  2     | 393    | 136    | Medium | 62     | 18     | Yes    | No     | 0      | 0      | \n",
       "| 10.96  | 115    |  28    | 11     |  29    |  86    | Good   | 53     | 18     | Yes    | Yes    | 0      | 1      | \n",
       "| 11.17  | 107    | 117    | 11     | 148    | 118    | Good   | 52     | 18     | Yes    | Yes    | 0      | 1      | \n",
       "|  8.71  | 149    |  95    |  5     | 400    | 144    | Medium | 76     | 18     | No     | No     | 0      | 0      | \n",
       "|  7.58  | 118    |  32    |  0     | 284    | 110    | Good   | 63     | 13     | Yes    | No     | 0      | 1      | \n",
       "| 12.29  | 147    |  74    | 13     | 251    | 131    | Good   | 52     | 10     | Yes    | Yes    | 0      | 1      | \n",
       "| 13.91  | 110    | 110    |  0     | 408    |  68    | Good   | 46     | 17     | No     | Yes    | 0      | 1      | \n",
       "|  8.73  | 129    |  76    | 16     |  58    | 121    | Medium | 69     | 12     | Yes    | Yes    | 0      | 0      | \n",
       "\n",
       "\n"
      ],
      "text/plain": [
       "   Sales CompPrice Income Advertising Population Price ShelveLoc Age Education\n",
       "1   9.50 138        73    11          276        120   Bad       42  17       \n",
       "2  11.22 111        48    16          260         83   Good      65  10       \n",
       "3  10.06 113        35    10          269         80   Medium    59  12       \n",
       "4   7.40 117       100     4          466         97   Medium    55  14       \n",
       "5   4.15 141        64     3          340        128   Bad       38  13       \n",
       "6  10.81 124       113    13          501         72   Bad       78  16       \n",
       "7   6.63 115       105     0           45        108   Medium    71  15       \n",
       "8  11.85 136        81    15          425        120   Good      67  10       \n",
       "9   6.54 132       110     0          108        124   Medium    76  10       \n",
       "10  4.69 132       113     0          131        124   Medium    76  17       \n",
       "11  9.01 121        78     9          150        100   Bad       26  10       \n",
       "12 11.96 117        94     4          503         94   Good      50  13       \n",
       "13  3.98 122        35     2          393        136   Medium    62  18       \n",
       "14 10.96 115        28    11           29         86   Good      53  18       \n",
       "15 11.17 107       117    11          148        118   Good      52  18       \n",
       "16  8.71 149        95     5          400        144   Medium    76  18       \n",
       "17  7.58 118        32     0          284        110   Good      63  13       \n",
       "18 12.29 147        74    13          251        131   Good      52  10       \n",
       "19 13.91 110       110     0          408         68   Good      46  17       \n",
       "20  8.73 129        76    16           58        121   Medium    69  12       \n",
       "   Urban US  Bad_Shelf Good_Shelf\n",
       "1  Yes   Yes 1         0         \n",
       "2  Yes   Yes 0         1         \n",
       "3  Yes   Yes 0         0         \n",
       "4  Yes   Yes 0         0         \n",
       "5  Yes   No  1         0         \n",
       "6  No    Yes 1         0         \n",
       "7  Yes   No  0         0         \n",
       "8  Yes   Yes 0         1         \n",
       "9  No    No  0         0         \n",
       "10 No    Yes 0         0         \n",
       "11 No    Yes 1         0         \n",
       "12 Yes   Yes 0         1         \n",
       "13 Yes   No  0         0         \n",
       "14 Yes   Yes 0         1         \n",
       "15 Yes   Yes 0         1         \n",
       "16 No    No  0         0         \n",
       "17 Yes   No  0         1         \n",
       "18 Yes   Yes 0         1         \n",
       "19 No    Yes 0         1         \n",
       "20 Yes   Yes 0         0         "
      ]
     },
     "metadata": {},
     "output_type": "display_data"
    }
   ],
   "source": [
    "C1<-data.frame(Carseats) %>%\n",
    "    mutate(Bad_Shelf=ifelse(ShelveLoc=='Bad',1,0)) %>%\n",
    "    mutate(Good_Shelf=ifelse(ShelveLoc==\"Good\",1,0))\n",
    "head(C1,20)\n"
   ]
  },
  {
   "cell_type": "markdown",
   "metadata": {},
   "source": [
    "Also, create two interaction variables:\n",
    "\n",
    "- Price_Bad_Shelf = Price* Bad_Shelf\n",
    "- Price_Good_Shelf = Price* Good_Shelf"
   ]
  },
  {
   "cell_type": "code",
   "execution_count": 3,
   "metadata": {},
   "outputs": [
    {
     "data": {
      "text/html": [
       "<table>\n",
       "<thead><tr><th scope=col>Sales</th><th scope=col>CompPrice</th><th scope=col>Income</th><th scope=col>Advertising</th><th scope=col>Population</th><th scope=col>Price</th><th scope=col>ShelveLoc</th><th scope=col>Age</th><th scope=col>Education</th><th scope=col>Urban</th><th scope=col>US</th><th scope=col>Bad_Shelf</th><th scope=col>Good_Shelf</th><th scope=col>Price_Bad_Shelf</th><th scope=col>Price_Good_Shelf</th></tr></thead>\n",
       "<tbody>\n",
       "\t<tr><td> 9.50 </td><td>138   </td><td> 73   </td><td>11    </td><td>276   </td><td>120   </td><td>Bad   </td><td>42    </td><td>17    </td><td>Yes   </td><td>Yes   </td><td>1     </td><td>0     </td><td>120   </td><td>  0   </td></tr>\n",
       "\t<tr><td>11.22 </td><td>111   </td><td> 48   </td><td>16    </td><td>260   </td><td> 83   </td><td>Good  </td><td>65    </td><td>10    </td><td>Yes   </td><td>Yes   </td><td>0     </td><td>1     </td><td>  0   </td><td> 83   </td></tr>\n",
       "\t<tr><td>10.06 </td><td>113   </td><td> 35   </td><td>10    </td><td>269   </td><td> 80   </td><td>Medium</td><td>59    </td><td>12    </td><td>Yes   </td><td>Yes   </td><td>0     </td><td>0     </td><td>  0   </td><td>  0   </td></tr>\n",
       "\t<tr><td> 7.40 </td><td>117   </td><td>100   </td><td> 4    </td><td>466   </td><td> 97   </td><td>Medium</td><td>55    </td><td>14    </td><td>Yes   </td><td>Yes   </td><td>0     </td><td>0     </td><td>  0   </td><td>  0   </td></tr>\n",
       "\t<tr><td> 4.15 </td><td>141   </td><td> 64   </td><td> 3    </td><td>340   </td><td>128   </td><td>Bad   </td><td>38    </td><td>13    </td><td>Yes   </td><td>No    </td><td>1     </td><td>0     </td><td>128   </td><td>  0   </td></tr>\n",
       "\t<tr><td>10.81 </td><td>124   </td><td>113   </td><td>13    </td><td>501   </td><td> 72   </td><td>Bad   </td><td>78    </td><td>16    </td><td>No    </td><td>Yes   </td><td>1     </td><td>0     </td><td> 72   </td><td>  0   </td></tr>\n",
       "\t<tr><td> 6.63 </td><td>115   </td><td>105   </td><td> 0    </td><td> 45   </td><td>108   </td><td>Medium</td><td>71    </td><td>15    </td><td>Yes   </td><td>No    </td><td>0     </td><td>0     </td><td>  0   </td><td>  0   </td></tr>\n",
       "\t<tr><td>11.85 </td><td>136   </td><td> 81   </td><td>15    </td><td>425   </td><td>120   </td><td>Good  </td><td>67    </td><td>10    </td><td>Yes   </td><td>Yes   </td><td>0     </td><td>1     </td><td>  0   </td><td>120   </td></tr>\n",
       "\t<tr><td> 6.54 </td><td>132   </td><td>110   </td><td> 0    </td><td>108   </td><td>124   </td><td>Medium</td><td>76    </td><td>10    </td><td>No    </td><td>No    </td><td>0     </td><td>0     </td><td>  0   </td><td>  0   </td></tr>\n",
       "\t<tr><td> 4.69 </td><td>132   </td><td>113   </td><td> 0    </td><td>131   </td><td>124   </td><td>Medium</td><td>76    </td><td>17    </td><td>No    </td><td>Yes   </td><td>0     </td><td>0     </td><td>  0   </td><td>  0   </td></tr>\n",
       "\t<tr><td> 9.01 </td><td>121   </td><td> 78   </td><td> 9    </td><td>150   </td><td>100   </td><td>Bad   </td><td>26    </td><td>10    </td><td>No    </td><td>Yes   </td><td>1     </td><td>0     </td><td>100   </td><td>  0   </td></tr>\n",
       "\t<tr><td>11.96 </td><td>117   </td><td> 94   </td><td> 4    </td><td>503   </td><td> 94   </td><td>Good  </td><td>50    </td><td>13    </td><td>Yes   </td><td>Yes   </td><td>0     </td><td>1     </td><td>  0   </td><td> 94   </td></tr>\n",
       "\t<tr><td> 3.98 </td><td>122   </td><td> 35   </td><td> 2    </td><td>393   </td><td>136   </td><td>Medium</td><td>62    </td><td>18    </td><td>Yes   </td><td>No    </td><td>0     </td><td>0     </td><td>  0   </td><td>  0   </td></tr>\n",
       "\t<tr><td>10.96 </td><td>115   </td><td> 28   </td><td>11    </td><td> 29   </td><td> 86   </td><td>Good  </td><td>53    </td><td>18    </td><td>Yes   </td><td>Yes   </td><td>0     </td><td>1     </td><td>  0   </td><td> 86   </td></tr>\n",
       "\t<tr><td>11.17 </td><td>107   </td><td>117   </td><td>11    </td><td>148   </td><td>118   </td><td>Good  </td><td>52    </td><td>18    </td><td>Yes   </td><td>Yes   </td><td>0     </td><td>1     </td><td>  0   </td><td>118   </td></tr>\n",
       "\t<tr><td> 8.71 </td><td>149   </td><td> 95   </td><td> 5    </td><td>400   </td><td>144   </td><td>Medium</td><td>76    </td><td>18    </td><td>No    </td><td>No    </td><td>0     </td><td>0     </td><td>  0   </td><td>  0   </td></tr>\n",
       "\t<tr><td> 7.58 </td><td>118   </td><td> 32   </td><td> 0    </td><td>284   </td><td>110   </td><td>Good  </td><td>63    </td><td>13    </td><td>Yes   </td><td>No    </td><td>0     </td><td>1     </td><td>  0   </td><td>110   </td></tr>\n",
       "\t<tr><td>12.29 </td><td>147   </td><td> 74   </td><td>13    </td><td>251   </td><td>131   </td><td>Good  </td><td>52    </td><td>10    </td><td>Yes   </td><td>Yes   </td><td>0     </td><td>1     </td><td>  0   </td><td>131   </td></tr>\n",
       "\t<tr><td>13.91 </td><td>110   </td><td>110   </td><td> 0    </td><td>408   </td><td> 68   </td><td>Good  </td><td>46    </td><td>17    </td><td>No    </td><td>Yes   </td><td>0     </td><td>1     </td><td>  0   </td><td> 68   </td></tr>\n",
       "\t<tr><td> 8.73 </td><td>129   </td><td> 76   </td><td>16    </td><td> 58   </td><td>121   </td><td>Medium</td><td>69    </td><td>12    </td><td>Yes   </td><td>Yes   </td><td>0     </td><td>0     </td><td>  0   </td><td>  0   </td></tr>\n",
       "</tbody>\n",
       "</table>\n"
      ],
      "text/latex": [
       "\\begin{tabular}{r|lllllllllllllll}\n",
       " Sales & CompPrice & Income & Advertising & Population & Price & ShelveLoc & Age & Education & Urban & US & Bad\\_Shelf & Good\\_Shelf & Price\\_Bad\\_Shelf & Price\\_Good\\_Shelf\\\\\n",
       "\\hline\n",
       "\t  9.50  & 138    &  73    & 11     & 276    & 120    & Bad    & 42     & 17     & Yes    & Yes    & 1      & 0      & 120    &   0   \\\\\n",
       "\t 11.22  & 111    &  48    & 16     & 260    &  83    & Good   & 65     & 10     & Yes    & Yes    & 0      & 1      &   0    &  83   \\\\\n",
       "\t 10.06  & 113    &  35    & 10     & 269    &  80    & Medium & 59     & 12     & Yes    & Yes    & 0      & 0      &   0    &   0   \\\\\n",
       "\t  7.40  & 117    & 100    &  4     & 466    &  97    & Medium & 55     & 14     & Yes    & Yes    & 0      & 0      &   0    &   0   \\\\\n",
       "\t  4.15  & 141    &  64    &  3     & 340    & 128    & Bad    & 38     & 13     & Yes    & No     & 1      & 0      & 128    &   0   \\\\\n",
       "\t 10.81  & 124    & 113    & 13     & 501    &  72    & Bad    & 78     & 16     & No     & Yes    & 1      & 0      &  72    &   0   \\\\\n",
       "\t  6.63  & 115    & 105    &  0     &  45    & 108    & Medium & 71     & 15     & Yes    & No     & 0      & 0      &   0    &   0   \\\\\n",
       "\t 11.85  & 136    &  81    & 15     & 425    & 120    & Good   & 67     & 10     & Yes    & Yes    & 0      & 1      &   0    & 120   \\\\\n",
       "\t  6.54  & 132    & 110    &  0     & 108    & 124    & Medium & 76     & 10     & No     & No     & 0      & 0      &   0    &   0   \\\\\n",
       "\t  4.69  & 132    & 113    &  0     & 131    & 124    & Medium & 76     & 17     & No     & Yes    & 0      & 0      &   0    &   0   \\\\\n",
       "\t  9.01  & 121    &  78    &  9     & 150    & 100    & Bad    & 26     & 10     & No     & Yes    & 1      & 0      & 100    &   0   \\\\\n",
       "\t 11.96  & 117    &  94    &  4     & 503    &  94    & Good   & 50     & 13     & Yes    & Yes    & 0      & 1      &   0    &  94   \\\\\n",
       "\t  3.98  & 122    &  35    &  2     & 393    & 136    & Medium & 62     & 18     & Yes    & No     & 0      & 0      &   0    &   0   \\\\\n",
       "\t 10.96  & 115    &  28    & 11     &  29    &  86    & Good   & 53     & 18     & Yes    & Yes    & 0      & 1      &   0    &  86   \\\\\n",
       "\t 11.17  & 107    & 117    & 11     & 148    & 118    & Good   & 52     & 18     & Yes    & Yes    & 0      & 1      &   0    & 118   \\\\\n",
       "\t  8.71  & 149    &  95    &  5     & 400    & 144    & Medium & 76     & 18     & No     & No     & 0      & 0      &   0    &   0   \\\\\n",
       "\t  7.58  & 118    &  32    &  0     & 284    & 110    & Good   & 63     & 13     & Yes    & No     & 0      & 1      &   0    & 110   \\\\\n",
       "\t 12.29  & 147    &  74    & 13     & 251    & 131    & Good   & 52     & 10     & Yes    & Yes    & 0      & 1      &   0    & 131   \\\\\n",
       "\t 13.91  & 110    & 110    &  0     & 408    &  68    & Good   & 46     & 17     & No     & Yes    & 0      & 1      &   0    &  68   \\\\\n",
       "\t  8.73  & 129    &  76    & 16     &  58    & 121    & Medium & 69     & 12     & Yes    & Yes    & 0      & 0      &   0    &   0   \\\\\n",
       "\\end{tabular}\n"
      ],
      "text/markdown": [
       "\n",
       "Sales | CompPrice | Income | Advertising | Population | Price | ShelveLoc | Age | Education | Urban | US | Bad_Shelf | Good_Shelf | Price_Bad_Shelf | Price_Good_Shelf | \n",
       "|---|---|---|---|---|---|---|---|---|---|---|---|---|---|---|---|---|---|---|---|\n",
       "|  9.50  | 138    |  73    | 11     | 276    | 120    | Bad    | 42     | 17     | Yes    | Yes    | 1      | 0      | 120    |   0    | \n",
       "| 11.22  | 111    |  48    | 16     | 260    |  83    | Good   | 65     | 10     | Yes    | Yes    | 0      | 1      |   0    |  83    | \n",
       "| 10.06  | 113    |  35    | 10     | 269    |  80    | Medium | 59     | 12     | Yes    | Yes    | 0      | 0      |   0    |   0    | \n",
       "|  7.40  | 117    | 100    |  4     | 466    |  97    | Medium | 55     | 14     | Yes    | Yes    | 0      | 0      |   0    |   0    | \n",
       "|  4.15  | 141    |  64    |  3     | 340    | 128    | Bad    | 38     | 13     | Yes    | No     | 1      | 0      | 128    |   0    | \n",
       "| 10.81  | 124    | 113    | 13     | 501    |  72    | Bad    | 78     | 16     | No     | Yes    | 1      | 0      |  72    |   0    | \n",
       "|  6.63  | 115    | 105    |  0     |  45    | 108    | Medium | 71     | 15     | Yes    | No     | 0      | 0      |   0    |   0    | \n",
       "| 11.85  | 136    |  81    | 15     | 425    | 120    | Good   | 67     | 10     | Yes    | Yes    | 0      | 1      |   0    | 120    | \n",
       "|  6.54  | 132    | 110    |  0     | 108    | 124    | Medium | 76     | 10     | No     | No     | 0      | 0      |   0    |   0    | \n",
       "|  4.69  | 132    | 113    |  0     | 131    | 124    | Medium | 76     | 17     | No     | Yes    | 0      | 0      |   0    |   0    | \n",
       "|  9.01  | 121    |  78    |  9     | 150    | 100    | Bad    | 26     | 10     | No     | Yes    | 1      | 0      | 100    |   0    | \n",
       "| 11.96  | 117    |  94    |  4     | 503    |  94    | Good   | 50     | 13     | Yes    | Yes    | 0      | 1      |   0    |  94    | \n",
       "|  3.98  | 122    |  35    |  2     | 393    | 136    | Medium | 62     | 18     | Yes    | No     | 0      | 0      |   0    |   0    | \n",
       "| 10.96  | 115    |  28    | 11     |  29    |  86    | Good   | 53     | 18     | Yes    | Yes    | 0      | 1      |   0    |  86    | \n",
       "| 11.17  | 107    | 117    | 11     | 148    | 118    | Good   | 52     | 18     | Yes    | Yes    | 0      | 1      |   0    | 118    | \n",
       "|  8.71  | 149    |  95    |  5     | 400    | 144    | Medium | 76     | 18     | No     | No     | 0      | 0      |   0    |   0    | \n",
       "|  7.58  | 118    |  32    |  0     | 284    | 110    | Good   | 63     | 13     | Yes    | No     | 0      | 1      |   0    | 110    | \n",
       "| 12.29  | 147    |  74    | 13     | 251    | 131    | Good   | 52     | 10     | Yes    | Yes    | 0      | 1      |   0    | 131    | \n",
       "| 13.91  | 110    | 110    |  0     | 408    |  68    | Good   | 46     | 17     | No     | Yes    | 0      | 1      |   0    |  68    | \n",
       "|  8.73  | 129    |  76    | 16     |  58    | 121    | Medium | 69     | 12     | Yes    | Yes    | 0      | 0      |   0    |   0    | \n",
       "\n",
       "\n"
      ],
      "text/plain": [
       "   Sales CompPrice Income Advertising Population Price ShelveLoc Age Education\n",
       "1   9.50 138        73    11          276        120   Bad       42  17       \n",
       "2  11.22 111        48    16          260         83   Good      65  10       \n",
       "3  10.06 113        35    10          269         80   Medium    59  12       \n",
       "4   7.40 117       100     4          466         97   Medium    55  14       \n",
       "5   4.15 141        64     3          340        128   Bad       38  13       \n",
       "6  10.81 124       113    13          501         72   Bad       78  16       \n",
       "7   6.63 115       105     0           45        108   Medium    71  15       \n",
       "8  11.85 136        81    15          425        120   Good      67  10       \n",
       "9   6.54 132       110     0          108        124   Medium    76  10       \n",
       "10  4.69 132       113     0          131        124   Medium    76  17       \n",
       "11  9.01 121        78     9          150        100   Bad       26  10       \n",
       "12 11.96 117        94     4          503         94   Good      50  13       \n",
       "13  3.98 122        35     2          393        136   Medium    62  18       \n",
       "14 10.96 115        28    11           29         86   Good      53  18       \n",
       "15 11.17 107       117    11          148        118   Good      52  18       \n",
       "16  8.71 149        95     5          400        144   Medium    76  18       \n",
       "17  7.58 118        32     0          284        110   Good      63  13       \n",
       "18 12.29 147        74    13          251        131   Good      52  10       \n",
       "19 13.91 110       110     0          408         68   Good      46  17       \n",
       "20  8.73 129        76    16           58        121   Medium    69  12       \n",
       "   Urban US  Bad_Shelf Good_Shelf Price_Bad_Shelf Price_Good_Shelf\n",
       "1  Yes   Yes 1         0          120               0             \n",
       "2  Yes   Yes 0         1            0              83             \n",
       "3  Yes   Yes 0         0            0               0             \n",
       "4  Yes   Yes 0         0            0               0             \n",
       "5  Yes   No  1         0          128               0             \n",
       "6  No    Yes 1         0           72               0             \n",
       "7  Yes   No  0         0            0               0             \n",
       "8  Yes   Yes 0         1            0             120             \n",
       "9  No    No  0         0            0               0             \n",
       "10 No    Yes 0         0            0               0             \n",
       "11 No    Yes 1         0          100               0             \n",
       "12 Yes   Yes 0         1            0              94             \n",
       "13 Yes   No  0         0            0               0             \n",
       "14 Yes   Yes 0         1            0              86             \n",
       "15 Yes   Yes 0         1            0             118             \n",
       "16 No    No  0         0            0               0             \n",
       "17 Yes   No  0         1            0             110             \n",
       "18 Yes   Yes 0         1            0             131             \n",
       "19 No    Yes 0         1            0              68             \n",
       "20 Yes   Yes 0         0            0               0             "
      ]
     },
     "metadata": {},
     "output_type": "display_data"
    }
   ],
   "source": [
    "C1<-C1 %>%\n",
    "    mutate(Price_Bad_Shelf=Price*Bad_Shelf) %>%\n",
    "    mutate(Price_Good_Shelf=Price*Good_Shelf)\n",
    "head(C1,20)"
   ]
  },
  {
   "cell_type": "markdown",
   "metadata": {},
   "source": [
    "** Please estimate a linear regression model (using the lm function) with Sales as the dependent variable and Price as the independent variable.<br> **"
   ]
  },
  {
   "cell_type": "code",
   "execution_count": 4,
   "metadata": {},
   "outputs": [
    {
     "data": {
      "text/plain": [
       "\n",
       "Call:\n",
       "lm(formula = Sales ~ Price, data = C1)\n",
       "\n",
       "Residuals:\n",
       "    Min      1Q  Median      3Q     Max \n",
       "-6.5224 -1.8442 -0.1459  1.6503  7.5108 \n",
       "\n",
       "Coefficients:\n",
       "             Estimate Std. Error t value Pr(>|t|)    \n",
       "(Intercept) 13.641915   0.632812  21.558   <2e-16 ***\n",
       "Price       -0.053073   0.005354  -9.912   <2e-16 ***\n",
       "---\n",
       "Signif. codes:  0 '***' 0.001 '**' 0.01 '*' 0.05 '.' 0.1 ' ' 1\n",
       "\n",
       "Residual standard error: 2.532 on 398 degrees of freedom\n",
       "Multiple R-squared:  0.198,\tAdjusted R-squared:  0.196 \n",
       "F-statistic: 98.25 on 1 and 398 DF,  p-value: < 2.2e-16\n"
      ]
     },
     "metadata": {},
     "output_type": "display_data"
    }
   ],
   "source": [
    "lm.1<-lm(formula=Sales~Price,data=C1)\n",
    "summary(lm.1)"
   ]
  },
  {
   "cell_type": "markdown",
   "metadata": {},
   "source": [
    "- **  What is this model’s R-squared value?  0.198 **\n",
    "- ** What is this model’s adjusted R-squared value? 0.196 **\n",
    "- ** What is the estimated coefficient of Price? -0.053073 **\n",
    "- ** What is the t- value of the coefficient of Price? -9.912 **\n",
    "- ** Is the estimated coefficient for price statistically speaking different from 0 (at a significance level of 5%) <br>Yes, the p-value is less than 0.05 **"
   ]
  },
  {
   "cell_type": "markdown",
   "metadata": {},
   "source": [
    "** Please estimate a linear regression model (using the lm function) with Sales as the dependent variable and Price, Bad_Shelf, and Good_Shelf as independent variables. ** "
   ]
  },
  {
   "cell_type": "code",
   "execution_count": 5,
   "metadata": {},
   "outputs": [
    {
     "data": {
      "text/plain": [
       "\n",
       "Call:\n",
       "lm(formula = Sales ~ Price + Bad_Shelf + Good_Shelf, data = C1)\n",
       "\n",
       "Residuals:\n",
       "    Min      1Q  Median      3Q     Max \n",
       "-5.8229 -1.3930 -0.0179  1.3868  5.0780 \n",
       "\n",
       "Coefficients:\n",
       "             Estimate Std. Error t value Pr(>|t|)    \n",
       "(Intercept) 13.863824   0.487021  28.467  < 2e-16 ***\n",
       "Price       -0.056698   0.004059 -13.967  < 2e-16 ***\n",
       "Bad_Shelf   -1.862022   0.234748  -7.932 2.23e-14 ***\n",
       "Good_Shelf   3.033825   0.245178  12.374  < 2e-16 ***\n",
       "---\n",
       "Signif. codes:  0 '***' 0.001 '**' 0.01 '*' 0.05 '.' 0.1 ' ' 1\n",
       "\n",
       "Residual standard error: 1.917 on 396 degrees of freedom\n",
       "Multiple R-squared:  0.5426,\tAdjusted R-squared:  0.5391 \n",
       "F-statistic: 156.6 on 3 and 396 DF,  p-value: < 2.2e-16\n"
      ]
     },
     "metadata": {},
     "output_type": "display_data"
    }
   ],
   "source": [
    "lm.2<-lm(formula=Sales~Price+Bad_Shelf+Good_Shelf,data=C1)\n",
    "summary(lm.2)"
   ]
  },
  {
   "cell_type": "markdown",
   "metadata": {},
   "source": [
    "- ** What is this model’s coefficient for the variable \"Price\"? -0.056698 **\n",
    "\n",
    "- ** What is this model’s coefficient for the variable “Bad_Shelf”?   -1.862022  **\n",
    "\n",
    "- ** What is this model’s coefficient for the variable “Good_Shelf”? 3.033825 **\n",
    "\n",
    "- ** What is the average value of Sales when Price = 0 for ShelveLoc = “Medium”?<br> Base case:Value of intercept=13.863824 **\n",
    "\n",
    "- ** What is the average value of Sales when Price = 0 for ShelveLoc = “Bad” **\n"
   ]
  },
  {
   "cell_type": "code",
   "execution_count": 6,
   "metadata": {},
   "outputs": [
    {
     "data": {
      "text/html": [
       "12.001802"
      ],
      "text/latex": [
       "12.001802"
      ],
      "text/markdown": [
       "12.001802"
      ],
      "text/plain": [
       "[1] 12.0018"
      ]
     },
     "metadata": {},
     "output_type": "display_data"
    }
   ],
   "source": [
    "13.863824-1.862022"
   ]
  },
  {
   "cell_type": "markdown",
   "metadata": {},
   "source": [
    "- ** What is the average value of Sales when Price = 0 for ShelveLoc = “Good”? **"
   ]
  },
  {
   "cell_type": "code",
   "execution_count": 7,
   "metadata": {},
   "outputs": [
    {
     "data": {
      "text/html": [
       "16.897649"
      ],
      "text/latex": [
       "16.897649"
      ],
      "text/markdown": [
       "16.897649"
      ],
      "text/plain": [
       "[1] 16.89765"
      ]
     },
     "metadata": {},
     "output_type": "display_data"
    }
   ],
   "source": [
    "13.863824+3.033825"
   ]
  },
  {
   "cell_type": "markdown",
   "metadata": {},
   "source": [
    "** Please estimate a linear regression model (using the lm function) with Sales as the dependent variable and Price and ShelveLoc as independent variables.  **"
   ]
  },
  {
   "cell_type": "code",
   "execution_count": 8,
   "metadata": {},
   "outputs": [
    {
     "data": {
      "text/plain": [
       "\n",
       "Call:\n",
       "lm(formula = Sales ~ Price + ShelveLoc, data = C1)\n",
       "\n",
       "Residuals:\n",
       "    Min      1Q  Median      3Q     Max \n",
       "-5.8229 -1.3930 -0.0179  1.3868  5.0780 \n",
       "\n",
       "Coefficients:\n",
       "                 Estimate Std. Error t value Pr(>|t|)    \n",
       "(Intercept)     12.001802   0.503447  23.839  < 2e-16 ***\n",
       "Price           -0.056698   0.004059 -13.967  < 2e-16 ***\n",
       "ShelveLocGood    4.895848   0.285921  17.123  < 2e-16 ***\n",
       "ShelveLocMedium  1.862022   0.234748   7.932 2.23e-14 ***\n",
       "---\n",
       "Signif. codes:  0 '***' 0.001 '**' 0.01 '*' 0.05 '.' 0.1 ' ' 1\n",
       "\n",
       "Residual standard error: 1.917 on 396 degrees of freedom\n",
       "Multiple R-squared:  0.5426,\tAdjusted R-squared:  0.5391 \n",
       "F-statistic: 156.6 on 3 and 396 DF,  p-value: < 2.2e-16\n"
      ]
     },
     "metadata": {},
     "output_type": "display_data"
    }
   ],
   "source": [
    "lm.3<- lm(formula=Sales~Price+ShelveLoc,data=C1)\n",
    "summary(lm.3)"
   ]
  },
  {
   "cell_type": "markdown",
   "metadata": {},
   "source": [
    "- ** What is this model’s R-square value?  0.5426 **\n",
    "- ** What is the average value of Sales when Price = 0 for ShelveLoc = “Bad”? Base case=12.001802   **\n",
    "- ** What is the average value of Sales when Price = 0 for ShelveLoc = “Medium”?  **"
   ]
  },
  {
   "cell_type": "code",
   "execution_count": 9,
   "metadata": {},
   "outputs": [
    {
     "data": {
      "text/html": [
       "13.863824"
      ],
      "text/latex": [
       "13.863824"
      ],
      "text/markdown": [
       "13.863824"
      ],
      "text/plain": [
       "[1] 13.86382"
      ]
     },
     "metadata": {},
     "output_type": "display_data"
    }
   ],
   "source": [
    "12.001802+1.862022   "
   ]
  },
  {
   "cell_type": "markdown",
   "metadata": {},
   "source": [
    "- ** What is the average value of Sales when Price = 0 for ShelveLoc = “Good” **"
   ]
  },
  {
   "cell_type": "code",
   "execution_count": 10,
   "metadata": {},
   "outputs": [
    {
     "data": {
      "text/html": [
       "16.89765"
      ],
      "text/latex": [
       "16.89765"
      ],
      "text/markdown": [
       "16.89765"
      ],
      "text/plain": [
       "[1] 16.89765"
      ]
     },
     "metadata": {},
     "output_type": "display_data"
    }
   ],
   "source": [
    "12.001802 + 4.895848   "
   ]
  },
  {
   "cell_type": "markdown",
   "metadata": {},
   "source": [
    "- ** What is the estimated Coefficient of Price?  -0.056698 **"
   ]
  },
  {
   "cell_type": "markdown",
   "metadata": {},
   "source": [
    "** Please estimate a linear regression model (using the lm function) with Sales as the dependent variable and Price, Bad_Shelf, Good_Shelf , Price_Bad_Shelf, and Price_Good_Shelf as independent variables **"
   ]
  },
  {
   "cell_type": "code",
   "execution_count": 11,
   "metadata": {},
   "outputs": [
    {
     "data": {
      "text/plain": [
       "\n",
       "Call:\n",
       "lm(formula = Sales ~ Price + Bad_Shelf + Good_Shelf + Price_Bad_Shelf + \n",
       "    Price_Good_Shelf, data = C1)\n",
       "\n",
       "Residuals:\n",
       "    Min      1Q  Median      3Q     Max \n",
       "-5.9037 -1.3461 -0.0595  1.3679  4.9037 \n",
       "\n",
       "Coefficients:\n",
       "                  Estimate Std. Error t value Pr(>|t|)    \n",
       "(Intercept)      13.463465   0.663278  20.298  < 2e-16 ***\n",
       "Price            -0.053236   0.005624  -9.465  < 2e-16 ***\n",
       "Bad_Shelf        -1.630481   1.171616  -1.392 0.164813    \n",
       "Good_Shelf        4.505399   1.202999   3.745 0.000207 ***\n",
       "Price_Bad_Shelf  -0.001984   0.010007  -0.198 0.842907    \n",
       "Price_Good_Shelf -0.012549   0.010050  -1.249 0.212541    \n",
       "---\n",
       "Signif. codes:  0 '***' 0.001 '**' 0.01 '*' 0.05 '.' 0.1 ' ' 1\n",
       "\n",
       "Residual standard error: 1.918 on 394 degrees of freedom\n",
       "Multiple R-squared:  0.5444,\tAdjusted R-squared:  0.5386 \n",
       "F-statistic: 94.17 on 5 and 394 DF,  p-value: < 2.2e-16\n"
      ]
     },
     "metadata": {},
     "output_type": "display_data"
    }
   ],
   "source": [
    "lm.4<-lm(formula=Sales~Price+Bad_Shelf+Good_Shelf+Price_Bad_Shelf+Price_Good_Shelf,data=C1)\n",
    "summary(lm.4)"
   ]
  },
  {
   "cell_type": "markdown",
   "metadata": {},
   "source": [
    "- ** What is this model’s base case? Medium Shelf  ** \n",
    "- ** When price = 0, is the average sales for products in bad shelf significantly different compared to the base case<br> No as Bad_Shelf is not statistically significant **\n",
    "- ** For a unit change in price, does the average sales differ significantly between products in good shelf compared to the base case?<br> No as  Price_Good_Shelf  is not statistically significant **\n"
   ]
  }
 ],
 "metadata": {
  "kernelspec": {
   "display_name": "R",
   "language": "R",
   "name": "ir"
  },
  "language_info": {
   "codemirror_mode": "r",
   "file_extension": ".r",
   "mimetype": "text/x-r-source",
   "name": "R",
   "pygments_lexer": "r",
   "version": "3.4.0"
  }
 },
 "nbformat": 4,
 "nbformat_minor": 2
}

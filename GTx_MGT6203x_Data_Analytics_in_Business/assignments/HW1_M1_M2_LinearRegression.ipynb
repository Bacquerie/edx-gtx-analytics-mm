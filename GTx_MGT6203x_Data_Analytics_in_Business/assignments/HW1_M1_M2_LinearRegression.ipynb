{
 "cells": [
  {
   "cell_type": "markdown",
   "metadata": {},
   "source": [
    "# Linear Regression <br> Regression Diagnostics"
   ]
  },
  {
   "cell_type": "markdown",
   "metadata": {},
   "source": [
    "Instructions:\n",
    "\n",
    "\n",
    "Load the dataset named Auto (in the ISLR package) into R.\n",
    "\n",
    " \n",
    "\n",
    "Background Information\n",
    "\n",
    "The dataset Auto contains the fuel efficiency and other characteristics of 392 cars that were produced between 1970 and 1982. The variables have the following definitions:\n",
    "\n",
    " \n",
    "\n",
    "- mpg: The fuel efficiency of the car, measured in miles per gallon,\n",
    "\n",
    "- cylinders: The number of cylinders in the engine of the car,\n",
    "\n",
    "- displacement: The displacement of the car’s engine, measured in cubic inches,\n",
    "\n",
    "- horsepower: The power of the car’s engine, measured in horsepower,\n",
    "\n",
    "- weight: The weight of the car, measured in pounds,\n",
    "\n",
    "- acceleration: The quarter mile drag time, measured in seconds,\n",
    "\n",
    "- year: The last two digits of the car’s model year,\n",
    "\n",
    "- origin: The origin region of the car. 1 stands for U.S., 2 stands for Europe, 3 stands for Japan,\n",
    "\n",
    "- name: The make and model of the car."
   ]
  },
  {
   "cell_type": "code",
   "execution_count": 1,
   "metadata": {},
   "outputs": [
    {
     "name": "stderr",
     "output_type": "stream",
     "text": [
      "Warning message:\n",
      "\"package 'ISLR' was built under R version 3.4.4\"Warning message:\n",
      "\"package 'car' was built under R version 3.4.4\"Loading required package: carData\n",
      "Warning message:\n",
      "\"package 'carData' was built under R version 3.4.4\""
     ]
    },
    {
     "data": {
      "text/html": [
       "<table>\n",
       "<thead><tr><th scope=col>mpg</th><th scope=col>cylinders</th><th scope=col>displacement</th><th scope=col>horsepower</th><th scope=col>weight</th><th scope=col>acceleration</th><th scope=col>year</th><th scope=col>origin</th><th scope=col>name</th></tr></thead>\n",
       "<tbody>\n",
       "\t<tr><td>18                       </td><td>8                        </td><td>307                      </td><td>130                      </td><td>3504                     </td><td>12.0                     </td><td>70                       </td><td>1                        </td><td>chevrolet chevelle malibu</td></tr>\n",
       "\t<tr><td>15                       </td><td>8                        </td><td>350                      </td><td>165                      </td><td>3693                     </td><td>11.5                     </td><td>70                       </td><td>1                        </td><td>buick skylark 320        </td></tr>\n",
       "\t<tr><td>18                       </td><td>8                        </td><td>318                      </td><td>150                      </td><td>3436                     </td><td>11.0                     </td><td>70                       </td><td>1                        </td><td>plymouth satellite       </td></tr>\n",
       "\t<tr><td>16                       </td><td>8                        </td><td>304                      </td><td>150                      </td><td>3433                     </td><td>12.0                     </td><td>70                       </td><td>1                        </td><td>amc rebel sst            </td></tr>\n",
       "\t<tr><td>17                       </td><td>8                        </td><td>302                      </td><td>140                      </td><td>3449                     </td><td>10.5                     </td><td>70                       </td><td>1                        </td><td>ford torino              </td></tr>\n",
       "\t<tr><td>15                       </td><td>8                        </td><td>429                      </td><td>198                      </td><td>4341                     </td><td>10.0                     </td><td>70                       </td><td>1                        </td><td>ford galaxie 500         </td></tr>\n",
       "</tbody>\n",
       "</table>\n"
      ],
      "text/latex": [
       "\\begin{tabular}{r|lllllllll}\n",
       " mpg & cylinders & displacement & horsepower & weight & acceleration & year & origin & name\\\\\n",
       "\\hline\n",
       "\t 18                        & 8                         & 307                       & 130                       & 3504                      & 12.0                      & 70                        & 1                         & chevrolet chevelle malibu\\\\\n",
       "\t 15                        & 8                         & 350                       & 165                       & 3693                      & 11.5                      & 70                        & 1                         & buick skylark 320        \\\\\n",
       "\t 18                        & 8                         & 318                       & 150                       & 3436                      & 11.0                      & 70                        & 1                         & plymouth satellite       \\\\\n",
       "\t 16                        & 8                         & 304                       & 150                       & 3433                      & 12.0                      & 70                        & 1                         & amc rebel sst            \\\\\n",
       "\t 17                        & 8                         & 302                       & 140                       & 3449                      & 10.5                      & 70                        & 1                         & ford torino              \\\\\n",
       "\t 15                        & 8                         & 429                       & 198                       & 4341                      & 10.0                      & 70                        & 1                         & ford galaxie 500         \\\\\n",
       "\\end{tabular}\n"
      ],
      "text/markdown": [
       "\n",
       "mpg | cylinders | displacement | horsepower | weight | acceleration | year | origin | name | \n",
       "|---|---|---|---|---|---|\n",
       "| 18                        | 8                         | 307                       | 130                       | 3504                      | 12.0                      | 70                        | 1                         | chevrolet chevelle malibu | \n",
       "| 15                        | 8                         | 350                       | 165                       | 3693                      | 11.5                      | 70                        | 1                         | buick skylark 320         | \n",
       "| 18                        | 8                         | 318                       | 150                       | 3436                      | 11.0                      | 70                        | 1                         | plymouth satellite        | \n",
       "| 16                        | 8                         | 304                       | 150                       | 3433                      | 12.0                      | 70                        | 1                         | amc rebel sst             | \n",
       "| 17                        | 8                         | 302                       | 140                       | 3449                      | 10.5                      | 70                        | 1                         | ford torino               | \n",
       "| 15                        | 8                         | 429                       | 198                       | 4341                      | 10.0                      | 70                        | 1                         | ford galaxie 500          | \n",
       "\n",
       "\n"
      ],
      "text/plain": [
       "  mpg cylinders displacement horsepower weight acceleration year origin\n",
       "1 18  8         307          130        3504   12.0         70   1     \n",
       "2 15  8         350          165        3693   11.5         70   1     \n",
       "3 18  8         318          150        3436   11.0         70   1     \n",
       "4 16  8         304          150        3433   12.0         70   1     \n",
       "5 17  8         302          140        3449   10.5         70   1     \n",
       "6 15  8         429          198        4341   10.0         70   1     \n",
       "  name                     \n",
       "1 chevrolet chevelle malibu\n",
       "2 buick skylark 320        \n",
       "3 plymouth satellite       \n",
       "4 amc rebel sst            \n",
       "5 ford torino              \n",
       "6 ford galaxie 500         "
      ]
     },
     "metadata": {},
     "output_type": "display_data"
    }
   ],
   "source": [
    "library(ISLR)\n",
    "library(car)\n",
    "head(Auto)"
   ]
  },
  {
   "cell_type": "markdown",
   "metadata": {},
   "source": [
    "** Use the summary function to  **\n",
    "** find the average value of the following variables: mpg, cylinders, horsepower, weight, acceleration, year **"
   ]
  },
  {
   "cell_type": "code",
   "execution_count": 2,
   "metadata": {},
   "outputs": [
    {
     "data": {
      "text/html": [
       "<dl class=dl-horizontal>\n",
       "\t<dt><span style=white-space:pre-wrap>     mpg</span></dt>\n",
       "\t\t<dd><span style=white-space:pre-wrap>'Mean   :23.45  '</span></dd>\n",
       "\t<dt><span style=white-space:pre-wrap>  cylinders</span></dt>\n",
       "\t\t<dd><span style=white-space:pre-wrap>'Mean   :5.472  '</span></dd>\n",
       "\t<dt><span style=white-space:pre-wrap>  horsepower</span></dt>\n",
       "\t\t<dd><span style=white-space:pre-wrap>'Mean   :104.5  '</span></dd>\n",
       "\t<dt><span style=white-space:pre-wrap>    weight</span></dt>\n",
       "\t\t<dd><span style=white-space:pre-wrap>'Mean   :2978  '</span></dd>\n",
       "\t<dt> acceleration</dt>\n",
       "\t\t<dd><span style=white-space:pre-wrap>'Mean   :15.54  '</span></dd>\n",
       "\t<dt><span style=white-space:pre-wrap>     year</span></dt>\n",
       "\t\t<dd><span style=white-space:pre-wrap>'Mean   :75.98  '</span></dd>\n",
       "</dl>\n"
      ],
      "text/latex": [
       "\\begin{description*}\n",
       "\\item[     mpg] 'Mean   :23.45  '\n",
       "\\item[  cylinders] 'Mean   :5.472  '\n",
       "\\item[  horsepower] 'Mean   :104.5  '\n",
       "\\item[    weight] 'Mean   :2978  '\n",
       "\\item[ acceleration] 'Mean   :15.54  '\n",
       "\\item[     year] 'Mean   :75.98  '\n",
       "\\end{description*}\n"
      ],
      "text/markdown": [
       "<span style=white-space:pre-wrap>     mpg</span>\n",
       ":   <span style=white-space:pre-wrap>'Mean   :23.45  '</span><span style=white-space:pre-wrap>  cylinders</span>\n",
       ":   <span style=white-space:pre-wrap>'Mean   :5.472  '</span><span style=white-space:pre-wrap>  horsepower</span>\n",
       ":   <span style=white-space:pre-wrap>'Mean   :104.5  '</span><span style=white-space:pre-wrap>    weight</span>\n",
       ":   <span style=white-space:pre-wrap>'Mean   :2978  '</span> acceleration\n",
       ":   <span style=white-space:pre-wrap>'Mean   :15.54  '</span><span style=white-space:pre-wrap>     year</span>\n",
       ":   <span style=white-space:pre-wrap>'Mean   :75.98  '</span>\n",
       "\n"
      ],
      "text/plain": [
       "              mpg         cylinders        horsepower            weight \n",
       "\"Mean   :23.45  \" \"Mean   :5.472  \" \"Mean   :104.5  \"  \"Mean   :2978  \" \n",
       "     acceleration              year \n",
       "\"Mean   :15.54  \" \"Mean   :75.98  \" "
      ]
     },
     "metadata": {},
     "output_type": "display_data"
    }
   ],
   "source": [
    "summary(subset(Auto, select=c('mpg', 'cylinders', 'horsepower', 'weight', 'acceleration', 'year')))[4,]\n"
   ]
  },
  {
   "cell_type": "markdown",
   "metadata": {},
   "source": [
    "** Use the correlation function to find the two numeric variables (mpg, cylinders, horsepower, weight, acceleration, year) **\n",
    "** with the maximum negative correlation.**"
   ]
  },
  {
   "cell_type": "code",
   "execution_count": 3,
   "metadata": {},
   "outputs": [
    {
     "data": {
      "text/html": [
       "-0.832244214831576"
      ],
      "text/latex": [
       "-0.832244214831576"
      ],
      "text/markdown": [
       "-0.832244214831576"
      ],
      "text/plain": [
       "[1] -0.8322442"
      ]
     },
     "metadata": {},
     "output_type": "display_data"
    },
    {
     "data": {
      "text/html": [
       "<table>\n",
       "<thead><tr><th></th><th scope=col>mpg</th><th scope=col>cylinders</th><th scope=col>horsepower</th><th scope=col>weight</th><th scope=col>acceleration</th><th scope=col>year</th></tr></thead>\n",
       "<tbody>\n",
       "\t<tr><th scope=row>mpg</th><td> 1.0000000</td><td>-0.7776175</td><td>-0.7784268</td><td>-0.8322442</td><td> 0.4233285</td><td> 0.5805410</td></tr>\n",
       "\t<tr><th scope=row>cylinders</th><td>-0.7776175</td><td> 1.0000000</td><td> 0.8429834</td><td> 0.8975273</td><td>-0.5046834</td><td>-0.3456474</td></tr>\n",
       "\t<tr><th scope=row>horsepower</th><td>-0.7784268</td><td> 0.8429834</td><td> 1.0000000</td><td> 0.8645377</td><td>-0.6891955</td><td>-0.4163615</td></tr>\n",
       "\t<tr><th scope=row>weight</th><td>-0.8322442</td><td> 0.8975273</td><td> 0.8645377</td><td> 1.0000000</td><td>-0.4168392</td><td>-0.3091199</td></tr>\n",
       "\t<tr><th scope=row>acceleration</th><td> 0.4233285</td><td>-0.5046834</td><td>-0.6891955</td><td>-0.4168392</td><td> 1.0000000</td><td> 0.2903161</td></tr>\n",
       "\t<tr><th scope=row>year</th><td> 0.5805410</td><td>-0.3456474</td><td>-0.4163615</td><td>-0.3091199</td><td> 0.2903161</td><td> 1.0000000</td></tr>\n",
       "</tbody>\n",
       "</table>\n"
      ],
      "text/latex": [
       "\\begin{tabular}{r|llllll}\n",
       "  & mpg & cylinders & horsepower & weight & acceleration & year\\\\\n",
       "\\hline\n",
       "\tmpg &  1.0000000 & -0.7776175 & -0.7784268 & -0.8322442 &  0.4233285 &  0.5805410\\\\\n",
       "\tcylinders & -0.7776175 &  1.0000000 &  0.8429834 &  0.8975273 & -0.5046834 & -0.3456474\\\\\n",
       "\thorsepower & -0.7784268 &  0.8429834 &  1.0000000 &  0.8645377 & -0.6891955 & -0.4163615\\\\\n",
       "\tweight & -0.8322442 &  0.8975273 &  0.8645377 &  1.0000000 & -0.4168392 & -0.3091199\\\\\n",
       "\tacceleration &  0.4233285 & -0.5046834 & -0.6891955 & -0.4168392 &  1.0000000 &  0.2903161\\\\\n",
       "\tyear &  0.5805410 & -0.3456474 & -0.4163615 & -0.3091199 &  0.2903161 &  1.0000000\\\\\n",
       "\\end{tabular}\n"
      ],
      "text/markdown": [
       "\n",
       "| <!--/--> | mpg | cylinders | horsepower | weight | acceleration | year | \n",
       "|---|---|---|---|---|---|\n",
       "| mpg |  1.0000000 | -0.7776175 | -0.7784268 | -0.8322442 |  0.4233285 |  0.5805410 | \n",
       "| cylinders | -0.7776175 |  1.0000000 |  0.8429834 |  0.8975273 | -0.5046834 | -0.3456474 | \n",
       "| horsepower | -0.7784268 |  0.8429834 |  1.0000000 |  0.8645377 | -0.6891955 | -0.4163615 | \n",
       "| weight | -0.8322442 |  0.8975273 |  0.8645377 |  1.0000000 | -0.4168392 | -0.3091199 | \n",
       "| acceleration |  0.4233285 | -0.5046834 | -0.6891955 | -0.4168392 |  1.0000000 |  0.2903161 | \n",
       "| year |  0.5805410 | -0.3456474 | -0.4163615 | -0.3091199 |  0.2903161 |  1.0000000 | \n",
       "\n",
       "\n"
      ],
      "text/plain": [
       "             mpg        cylinders  horsepower weight     acceleration\n",
       "mpg           1.0000000 -0.7776175 -0.7784268 -0.8322442  0.4233285  \n",
       "cylinders    -0.7776175  1.0000000  0.8429834  0.8975273 -0.5046834  \n",
       "horsepower   -0.7784268  0.8429834  1.0000000  0.8645377 -0.6891955  \n",
       "weight       -0.8322442  0.8975273  0.8645377  1.0000000 -0.4168392  \n",
       "acceleration  0.4233285 -0.5046834 -0.6891955 -0.4168392  1.0000000  \n",
       "year          0.5805410 -0.3456474 -0.4163615 -0.3091199  0.2903161  \n",
       "             year      \n",
       "mpg           0.5805410\n",
       "cylinders    -0.3456474\n",
       "horsepower   -0.4163615\n",
       "weight       -0.3091199\n",
       "acceleration  0.2903161\n",
       "year          1.0000000"
      ]
     },
     "metadata": {},
     "output_type": "display_data"
    }
   ],
   "source": [
    "df<-cor(subset(Auto, select=c('mpg', 'cylinders', 'horsepower', 'weight', 'acceleration', 'year')))\n",
    "min(df)\n",
    "df"
   ]
  },
  {
   "cell_type": "markdown",
   "metadata": {},
   "source": [
    "** Please estimate a linear regression model (using the lm function) with mpg as the dependent variable and horsepower as the independent variables. **\n"
   ]
  },
  {
   "cell_type": "code",
   "execution_count": 4,
   "metadata": {},
   "outputs": [
    {
     "data": {
      "text/plain": [
       "\n",
       "Call:\n",
       "lm(formula = mpg ~ horsepower, data = Auto)\n",
       "\n",
       "Residuals:\n",
       "     Min       1Q   Median       3Q      Max \n",
       "-13.5710  -3.2592  -0.3435   2.7630  16.9240 \n",
       "\n",
       "Coefficients:\n",
       "             Estimate Std. Error t value Pr(>|t|)    \n",
       "(Intercept) 39.935861   0.717499   55.66   <2e-16 ***\n",
       "horsepower  -0.157845   0.006446  -24.49   <2e-16 ***\n",
       "---\n",
       "Signif. codes:  0 '***' 0.001 '**' 0.01 '*' 0.05 '.' 0.1 ' ' 1\n",
       "\n",
       "Residual standard error: 4.906 on 390 degrees of freedom\n",
       "Multiple R-squared:  0.6059,\tAdjusted R-squared:  0.6049 \n",
       "F-statistic: 599.7 on 1 and 390 DF,  p-value: < 2.2e-16\n"
      ]
     },
     "metadata": {},
     "output_type": "display_data"
    }
   ],
   "source": [
    "lm.1<-lm(formula= mpg~horsepower,data=Auto)\n",
    "summary(lm.1)"
   ]
  },
  {
   "cell_type": "markdown",
   "metadata": {},
   "source": [
    "- ** What is this model’s R-squared value?  0.6059 **\n",
    "\n",
    "\n",
    "- ** What is this model’s adjusted R-squared value?  0.6049 **\n",
    "\n",
    "- ** What is the estimated horsepower coefficient? -0.157845 **\n",
    "\n",
    "- ** What is the F-statistic of the overall model? 599.7 **\n"
   ]
  },
  {
   "cell_type": "markdown",
   "metadata": {},
   "source": [
    "- ** what are the values of Total Sum of Squares (SST), Sum of Squared Errors (SSE), and Sum of Squared Regression (SSR)? **\n"
   ]
  },
  {
   "cell_type": "code",
   "execution_count": 5,
   "metadata": {},
   "outputs": [
    {
     "data": {
      "text/html": [
       "<table>\n",
       "<thead><tr><th></th><th scope=col>Df</th><th scope=col>Sum Sq</th><th scope=col>Mean Sq</th><th scope=col>F value</th><th scope=col>Pr(&gt;F)</th></tr></thead>\n",
       "<tbody>\n",
       "\t<tr><th scope=row>horsepower</th><td>  1         </td><td>14433.078   </td><td>14433.07760 </td><td>599.7177    </td><td>7.031989e-81</td></tr>\n",
       "\t<tr><th scope=row>Residuals</th><td>390         </td><td> 9385.916   </td><td>   24.06645 </td><td>      NA    </td><td>          NA</td></tr>\n",
       "</tbody>\n",
       "</table>\n"
      ],
      "text/latex": [
       "\\begin{tabular}{r|lllll}\n",
       "  & Df & Sum Sq & Mean Sq & F value & Pr(>F)\\\\\n",
       "\\hline\n",
       "\thorsepower &   1          & 14433.078    & 14433.07760  & 599.7177     & 7.031989e-81\\\\\n",
       "\tResiduals & 390          &  9385.916    &    24.06645  &       NA     &           NA\\\\\n",
       "\\end{tabular}\n"
      ],
      "text/markdown": [
       "\n",
       "| <!--/--> | Df | Sum Sq | Mean Sq | F value | Pr(>F) | \n",
       "|---|---|\n",
       "| horsepower |   1          | 14433.078    | 14433.07760  | 599.7177     | 7.031989e-81 | \n",
       "| Residuals | 390          |  9385.916    |    24.06645  |       NA     |           NA | \n",
       "\n",
       "\n"
      ],
      "text/plain": [
       "           Df  Sum Sq    Mean Sq     F value  Pr(>F)      \n",
       "horsepower   1 14433.078 14433.07760 599.7177 7.031989e-81\n",
       "Residuals  390  9385.916    24.06645       NA           NA"
      ]
     },
     "metadata": {},
     "output_type": "display_data"
    }
   ],
   "source": [
    "anova(lm.1)"
   ]
  },
  {
   "cell_type": "markdown",
   "metadata": {},
   "source": [
    "** From above **\n",
    "\n",
    "** Total Sum of Squares (SSR)  -> 14433.1 **\n",
    "\n",
    "** Sum of Squared Errors (SSE) -->9385.9 **\n",
    "\n",
    "\n"
   ]
  },
  {
   "cell_type": "code",
   "execution_count": 6,
   "metadata": {},
   "outputs": [
    {
     "data": {
      "text/html": [
       "23818.994"
      ],
      "text/latex": [
       "23818.994"
      ],
      "text/markdown": [
       "23818.994"
      ],
      "text/plain": [
       "[1] 23818.99"
      ]
     },
     "metadata": {},
     "output_type": "display_data"
    }
   ],
   "source": [
    "SSR<-14433.078\n",
    "SSE<-9385.916\n",
    "SST<-SSR+SSE\n",
    "SST"
   ]
  },
  {
   "cell_type": "markdown",
   "metadata": {},
   "source": [
    "- ** What is the predicted value of mpg for a car that has a horsepower of 101? **"
   ]
  },
  {
   "cell_type": "code",
   "execution_count": 7,
   "metadata": {},
   "outputs": [
    {
     "data": {
      "text/html": [
       "<table>\n",
       "<thead><tr><th></th><th scope=col>fit</th><th scope=col>lwr</th><th scope=col>upr</th></tr></thead>\n",
       "<tbody>\n",
       "\t<tr><th scope=row>1</th><td>23.99354</td><td>14.33611</td><td>33.65098</td></tr>\n",
       "</tbody>\n",
       "</table>\n"
      ],
      "text/latex": [
       "\\begin{tabular}{r|lll}\n",
       "  & fit & lwr & upr\\\\\n",
       "\\hline\n",
       "\t1 & 23.99354 & 14.33611 & 33.65098\\\\\n",
       "\\end{tabular}\n"
      ],
      "text/markdown": [
       "\n",
       "| <!--/--> | fit | lwr | upr | \n",
       "|---|\n",
       "| 1 | 23.99354 | 14.33611 | 33.65098 | \n",
       "\n",
       "\n"
      ],
      "text/plain": [
       "  fit      lwr      upr     \n",
       "1 23.99354 14.33611 33.65098"
      ]
     },
     "metadata": {},
     "output_type": "display_data"
    }
   ],
   "source": [
    "predict.lm(lm.1,data.frame(horsepower=101), interval = \"predict\")"
   ]
  },
  {
   "cell_type": "markdown",
   "metadata": {},
   "source": [
    "- ** What is the 95% prediction interval of mpg for a car that has a horsepower of 101? **\n",
    "\n",
    "** 14.33611\t33.65098 is 95% range **\n",
    "\n"
   ]
  },
  {
   "cell_type": "markdown",
   "metadata": {},
   "source": [
    "Please estimate a linear regression model (using the lm function) with mpg as the dependent variable and \n",
    "horsepower, cylinders, weight, acceleration, and year as the independent variables"
   ]
  },
  {
   "cell_type": "code",
   "execution_count": 8,
   "metadata": {},
   "outputs": [
    {
     "data": {
      "text/plain": [
       "\n",
       "Call:\n",
       "lm(formula = mpg ~ horsepower + cylinders + weight + acceleration + \n",
       "    year, data = Auto)\n",
       "\n",
       "Residuals:\n",
       "    Min      1Q  Median      3Q     Max \n",
       "-8.7973 -2.3663 -0.0524  1.9950 14.3169 \n",
       "\n",
       "Coefficients:\n",
       "               Estimate Std. Error t value Pr(>|t|)    \n",
       "(Intercept)  -1.510e+01  4.734e+00  -3.189  0.00154 ** \n",
       "horsepower    3.038e-03  1.344e-02   0.226  0.82129    \n",
       "cylinders    -9.763e-02  2.466e-01  -0.396  0.69233    \n",
       "weight       -6.486e-03  6.015e-04 -10.784  < 2e-16 ***\n",
       "acceleration  7.346e-02  1.014e-01   0.724  0.46928    \n",
       "year          7.493e-01  5.248e-02  14.278  < 2e-16 ***\n",
       "---\n",
       "Signif. codes:  0 '***' 0.001 '**' 0.01 '*' 0.05 '.' 0.1 ' ' 1\n",
       "\n",
       "Residual standard error: 3.436 on 386 degrees of freedom\n",
       "Multiple R-squared:  0.8087,\tAdjusted R-squared:  0.8062 \n",
       "F-statistic: 326.4 on 5 and 386 DF,  p-value: < 2.2e-16\n"
      ]
     },
     "metadata": {},
     "output_type": "display_data"
    }
   ],
   "source": [
    "lm.2<-lm(formula= mpg~horsepower+cylinders+weight+acceleration+year,data=Auto)\n",
    "summary(lm.2)"
   ]
  },
  {
   "cell_type": "markdown",
   "metadata": {},
   "source": [
    "- ** What is this model’s R-squared value?  0.8087 **\n",
    "\n",
    "- ** What is this model’s adjusted R-squared value? 0.8062 **\n",
    "\n",
    "- ** List all the predictors that appear to have a relationship to mpg that are statistically significant at 5%? weight,year **       \n",
    "\n"
   ]
  },
  {
   "cell_type": "markdown",
   "metadata": {},
   "source": [
    "Please use the predict.lm function in R to make prediction for the mpg for a car that has a horsepower of 104.5, \n",
    "weight of 3000, 4 cylinders, a model year of 1980, and an acceleration time of 16 seconds.."
   ]
  },
  {
   "cell_type": "code",
   "execution_count": 9,
   "metadata": {},
   "outputs": [
    {
     "data": {
      "text/html": [
       "<table>\n",
       "<thead><tr><th></th><th scope=col>fit</th><th scope=col>lwr</th><th scope=col>upr</th></tr></thead>\n",
       "<tbody>\n",
       "\t<tr><th scope=row>1</th><td>26.4906 </td><td>19.67986</td><td>33.30134</td></tr>\n",
       "</tbody>\n",
       "</table>\n"
      ],
      "text/latex": [
       "\\begin{tabular}{r|lll}\n",
       "  & fit & lwr & upr\\\\\n",
       "\\hline\n",
       "\t1 & 26.4906  & 19.67986 & 33.30134\\\\\n",
       "\\end{tabular}\n"
      ],
      "text/markdown": [
       "\n",
       "| <!--/--> | fit | lwr | upr | \n",
       "|---|\n",
       "| 1 | 26.4906  | 19.67986 | 33.30134 | \n",
       "\n",
       "\n"
      ],
      "text/plain": [
       "  fit     lwr      upr     \n",
       "1 26.4906 19.67986 33.30134"
      ]
     },
     "metadata": {},
     "output_type": "display_data"
    }
   ],
   "source": [
    "predict.lm(lm.2,data.frame(horsepower=104.5,cylinders=4,weight=3000,acceleration=16,year=80), interval = \"predict\")"
   ]
  },
  {
   "cell_type": "markdown",
   "metadata": {},
   "source": [
    "- ** We used mpg as dependent variable and horsepower, cylinders, weight, acceleration, and year as explanatory variables to run a regression.<br> Which of the independent variables has the highest Variance Inflation Factor (VIF)? **\n"
   ]
  },
  {
   "cell_type": "code",
   "execution_count": 10,
   "metadata": {},
   "outputs": [
    {
     "data": {
      "text/html": [
       "<dl class=dl-horizontal>\n",
       "\t<dt>horsepower</dt>\n",
       "\t\t<dd>8.86779642412942</dd>\n",
       "\t<dt>cylinders</dt>\n",
       "\t\t<dd>5.85912103165214</dd>\n",
       "\t<dt>weight</dt>\n",
       "\t\t<dd>8.64644555595453</dd>\n",
       "\t<dt>acceleration</dt>\n",
       "\t\t<dd>2.59328366157064</dd>\n",
       "\t<dt>year</dt>\n",
       "\t\t<dd>1.2380719847051</dd>\n",
       "</dl>\n"
      ],
      "text/latex": [
       "\\begin{description*}\n",
       "\\item[horsepower] 8.86779642412942\n",
       "\\item[cylinders] 5.85912103165214\n",
       "\\item[weight] 8.64644555595453\n",
       "\\item[acceleration] 2.59328366157064\n",
       "\\item[year] 1.2380719847051\n",
       "\\end{description*}\n"
      ],
      "text/markdown": [
       "horsepower\n",
       ":   8.86779642412942cylinders\n",
       ":   5.85912103165214weight\n",
       ":   8.64644555595453acceleration\n",
       ":   2.59328366157064year\n",
       ":   1.2380719847051\n",
       "\n"
      ],
      "text/plain": [
       "  horsepower    cylinders       weight acceleration         year \n",
       "    8.867796     5.859121     8.646446     2.593284     1.238072 "
      ]
     },
     "metadata": {},
     "output_type": "display_data"
    }
   ],
   "source": [
    "vif(lm.2)"
   ]
  }
 ],
 "metadata": {
  "kernelspec": {
   "display_name": "R",
   "language": "R",
   "name": "ir"
  },
  "language_info": {
   "codemirror_mode": "r",
   "file_extension": ".r",
   "mimetype": "text/x-r-source",
   "name": "R",
   "pygments_lexer": "r",
   "version": "3.4.0"
  }
 },
 "nbformat": 4,
 "nbformat_minor": 2
}

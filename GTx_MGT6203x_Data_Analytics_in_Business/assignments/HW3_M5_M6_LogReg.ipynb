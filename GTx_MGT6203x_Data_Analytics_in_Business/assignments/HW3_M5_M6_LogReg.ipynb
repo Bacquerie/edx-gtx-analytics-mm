{
 "cells": [
  {
   "cell_type": "markdown",
   "metadata": {},
   "source": [
    "# Logistic Regression<br> Treatment Effect"
   ]
  },
  {
   "cell_type": "code",
   "execution_count": 1,
   "metadata": {},
   "outputs": [
    {
     "name": "stderr",
     "output_type": "stream",
     "text": [
      "Warning message:\n",
      "\"package 'Ecdat' was built under R version 3.4.1\"Loading required package: Ecfun\n",
      "Warning message:\n",
      "\"package 'Ecfun' was built under R version 3.4.4\"\n",
      "Attaching package: 'Ecfun'\n",
      "\n",
      "The following object is masked from 'package:base':\n",
      "\n",
      "    sign\n",
      "\n",
      "\n",
      "Attaching package: 'Ecdat'\n",
      "\n",
      "The following object is masked from 'package:datasets':\n",
      "\n",
      "    Orange\n",
      "\n",
      "Warning message:\n",
      "\"package 'ggplot2' was built under R version 3.4.4\"Warning message:\n",
      "\"package 'ISLR' was built under R version 3.4.4\"Warning message:\n",
      "\"package 'tidyverse' was built under R version 3.4.4\"-- Attaching packages --------------------------------------- tidyverse 1.2.1 --\n",
      "v tibble  1.4.2     v purrr   0.2.5\n",
      "v tidyr   0.8.1     v dplyr   0.7.6\n",
      "v readr   1.1.1     v stringr 1.3.1\n",
      "v tibble  1.4.2     v forcats 0.3.0\n",
      "Warning message:\n",
      "\"package 'tibble' was built under R version 3.4.4\"Warning message:\n",
      "\"package 'tidyr' was built under R version 3.4.4\"Warning message:\n",
      "\"package 'readr' was built under R version 3.4.4\"Warning message:\n",
      "\"package 'purrr' was built under R version 3.4.4\"Warning message:\n",
      "\"package 'dplyr' was built under R version 3.4.4\"Warning message:\n",
      "\"package 'stringr' was built under R version 3.4.4\"Warning message:\n",
      "\"package 'forcats' was built under R version 3.4.4\"-- Conflicts ------------------------------------------ tidyverse_conflicts() --\n",
      "x dplyr::filter() masks stats::filter()\n",
      "x dplyr::lag()    masks stats::lag()\n",
      "Warning message:\n",
      "\"package 'ggExtra' was built under R version 3.4.4\"Warning message:\n",
      "\"package 'ROCR' was built under R version 3.4.1\"Loading required package: gplots\n",
      "Warning message:\n",
      "\"package 'gplots' was built under R version 3.4.1\"\n",
      "Attaching package: 'gplots'\n",
      "\n",
      "The following object is masked from 'package:stats':\n",
      "\n",
      "    lowess\n",
      "\n"
     ]
    }
   ],
   "source": [
    "#Import important package\n",
    "library(Ecdat)\n",
    "library(ggplot2) \n",
    "library(ISLR)\n",
    "library(tidyverse)\n",
    "library(\"ggExtra\")\n",
    "library(\"ROCR\")"
   ]
  },
  {
   "cell_type": "markdown",
   "metadata": {},
   "source": [
    "Questions 1-4 are based on the Conceptual question at the end of Chapter 4 in the JWHT textbook (6th edition). The scenario involves data collected about students in a graduate statistics class with variables X1 = hours studied, X2 = undergraduate GPA, and Y = 1 if the student received an A, 0 otherwise. A logistic regression is fitted, and the estimated coefficients are b0 = -6, b1 = 0.05, and b2 = 1."
   ]
  },
  {
   "cell_type": "markdown",
   "metadata": {},
   "source": [
    "- ** Estimate the probability that a student who studies for 30 hours and has an undergraduate GPA of 3.5 gets an A in the class. **"
   ]
  },
  {
   "cell_type": "code",
   "execution_count": 2,
   "metadata": {},
   "outputs": [
    {
     "data": {
      "text/html": [
       "0.268941421369995"
      ],
      "text/latex": [
       "0.268941421369995"
      ],
      "text/markdown": [
       "0.268941421369995"
      ],
      "text/plain": [
       "[1] 0.2689414"
      ]
     },
     "metadata": {},
     "output_type": "display_data"
    }
   ],
   "source": [
    "b0=-6\n",
    "b1=0.05\n",
    "b2=1\n",
    "X1=30\n",
    "X2=3.5\n",
    "#odds for is log(y)\n",
    "y=exp(b0+b1*X1+b2*X2)\n",
    "p=y/(1+y)\n",
    "p"
   ]
  },
  {
   "cell_type": "markdown",
   "metadata": {},
   "source": [
    "- ** Estimate the odds ratio in favor of student, who studies for 40 hours and has an undergraduate GPA of 3.5, getting an A in the class. **"
   ]
  },
  {
   "cell_type": "code",
   "execution_count": 3,
   "metadata": {},
   "outputs": [
    {
     "data": {
      "text/html": [
       "0.606530659712633"
      ],
      "text/latex": [
       "0.606530659712633"
      ],
      "text/markdown": [
       "0.606530659712633"
      ],
      "text/plain": [
       "[1] 0.6065307"
      ]
     },
     "metadata": {},
     "output_type": "display_data"
    }
   ],
   "source": [
    "b0=-6\n",
    "b1=0.05\n",
    "b2=1\n",
    "X1=40\n",
    "X2=3.5\n",
    "odds_for=exp(b0+b1*X1+b2*X2)\n",
    "odds_for"
   ]
  },
  {
   "cell_type": "markdown",
   "metadata": {},
   "source": [
    "- ** Estimate the probability that a student who studies for 40 hours and has an undergraduate GPA of 3.9 gets an A in the class. **"
   ]
  },
  {
   "cell_type": "code",
   "execution_count": 4,
   "metadata": {},
   "outputs": [
    {
     "data": {
      "text/html": [
       "0.47502081252106"
      ],
      "text/latex": [
       "0.47502081252106"
      ],
      "text/markdown": [
       "0.47502081252106"
      ],
      "text/plain": [
       "[1] 0.4750208"
      ]
     },
     "metadata": {},
     "output_type": "display_data"
    }
   ],
   "source": [
    "b0=-6\n",
    "b1=0.05\n",
    "b2=1\n",
    "X1=40\n",
    "X2=3.9\n",
    "#odds for is log(y)\n",
    "y=exp(b0+b1*X1+b2*X2)\n",
    "p=y/(1+y)\n",
    "p"
   ]
  },
  {
   "cell_type": "markdown",
   "metadata": {},
   "source": [
    "- ** How many hours should a student study with an undergraduate GPA of 3.5 to have a probability of getting an A in the class equal to 0.8 **\n"
   ]
  },
  {
   "cell_type": "code",
   "execution_count": 5,
   "metadata": {},
   "outputs": [
    {
     "data": {
      "text/html": [
       "77.7258872223978"
      ],
      "text/latex": [
       "77.7258872223978"
      ],
      "text/markdown": [
       "77.7258872223978"
      ],
      "text/plain": [
       "[1] 77.72589"
      ]
     },
     "metadata": {},
     "output_type": "display_data"
    }
   ],
   "source": [
    "b0=-6\n",
    "b1=0.05\n",
    "b2=1\n",
    "X2=3.5\n",
    "p=0.8\n",
    "log_odds=log(p/(1-p))\n",
    "X1=(log_odds-b0-b2*X2)/b1\n",
    "X1"
   ]
  },
  {
   "cell_type": "markdown",
   "metadata": {},
   "source": [
    "** Question 5-8 are based on the Applied Problem 10 at the end of Chapter 4 in the JWHT textbook. Load the dataset named Weekly (in the ISLR package) into R. Create a new data frame (call is C1) that is a copy of Weekly for your analysis.  Assume “UP” as positive event and “DOWN” as negative event. **"
   ]
  },
  {
   "cell_type": "code",
   "execution_count": 6,
   "metadata": {},
   "outputs": [
    {
     "name": "stderr",
     "output_type": "stream",
     "text": [
      "Warning message:\n",
      "\"package 'bindrcpp' was built under R version 3.4.4\""
     ]
    },
    {
     "data": {
      "text/html": [
       "<table>\n",
       "<thead><tr><th scope=col>Year</th><th scope=col>Lag1</th><th scope=col>Lag2</th><th scope=col>Lag3</th><th scope=col>Lag4</th><th scope=col>Lag5</th><th scope=col>Volume</th><th scope=col>Today</th><th scope=col>Direction</th><th scope=col>resp</th></tr></thead>\n",
       "<tbody>\n",
       "\t<tr><td>1990     </td><td> 0.816   </td><td> 1.572   </td><td>-3.936   </td><td>-0.229   </td><td>-3.484   </td><td>0.1549760</td><td>-0.270   </td><td>Down     </td><td>0        </td></tr>\n",
       "\t<tr><td>1990     </td><td>-0.270   </td><td> 0.816   </td><td> 1.572   </td><td>-3.936   </td><td>-0.229   </td><td>0.1485740</td><td>-2.576   </td><td>Down     </td><td>0        </td></tr>\n",
       "\t<tr><td>1990     </td><td>-2.576   </td><td>-0.270   </td><td> 0.816   </td><td> 1.572   </td><td>-3.936   </td><td>0.1598375</td><td> 3.514   </td><td>Up       </td><td>1        </td></tr>\n",
       "\t<tr><td>1990     </td><td> 3.514   </td><td>-2.576   </td><td>-0.270   </td><td> 0.816   </td><td> 1.572   </td><td>0.1616300</td><td> 0.712   </td><td>Up       </td><td>1        </td></tr>\n",
       "\t<tr><td>1990     </td><td> 0.712   </td><td> 3.514   </td><td>-2.576   </td><td>-0.270   </td><td> 0.816   </td><td>0.1537280</td><td> 1.178   </td><td>Up       </td><td>1        </td></tr>\n",
       "\t<tr><td>1990     </td><td> 1.178   </td><td> 0.712   </td><td> 3.514   </td><td>-2.576   </td><td>-0.270   </td><td>0.1544440</td><td>-1.372   </td><td>Down     </td><td>0        </td></tr>\n",
       "</tbody>\n",
       "</table>\n"
      ],
      "text/latex": [
       "\\begin{tabular}{r|llllllllll}\n",
       " Year & Lag1 & Lag2 & Lag3 & Lag4 & Lag5 & Volume & Today & Direction & resp\\\\\n",
       "\\hline\n",
       "\t 1990      &  0.816    &  1.572    & -3.936    & -0.229    & -3.484    & 0.1549760 & -0.270    & Down      & 0        \\\\\n",
       "\t 1990      & -0.270    &  0.816    &  1.572    & -3.936    & -0.229    & 0.1485740 & -2.576    & Down      & 0        \\\\\n",
       "\t 1990      & -2.576    & -0.270    &  0.816    &  1.572    & -3.936    & 0.1598375 &  3.514    & Up        & 1        \\\\\n",
       "\t 1990      &  3.514    & -2.576    & -0.270    &  0.816    &  1.572    & 0.1616300 &  0.712    & Up        & 1        \\\\\n",
       "\t 1990      &  0.712    &  3.514    & -2.576    & -0.270    &  0.816    & 0.1537280 &  1.178    & Up        & 1        \\\\\n",
       "\t 1990      &  1.178    &  0.712    &  3.514    & -2.576    & -0.270    & 0.1544440 & -1.372    & Down      & 0        \\\\\n",
       "\\end{tabular}\n"
      ],
      "text/markdown": [
       "\n",
       "Year | Lag1 | Lag2 | Lag3 | Lag4 | Lag5 | Volume | Today | Direction | resp | \n",
       "|---|---|---|---|---|---|\n",
       "| 1990      |  0.816    |  1.572    | -3.936    | -0.229    | -3.484    | 0.1549760 | -0.270    | Down      | 0         | \n",
       "| 1990      | -0.270    |  0.816    |  1.572    | -3.936    | -0.229    | 0.1485740 | -2.576    | Down      | 0         | \n",
       "| 1990      | -2.576    | -0.270    |  0.816    |  1.572    | -3.936    | 0.1598375 |  3.514    | Up        | 1         | \n",
       "| 1990      |  3.514    | -2.576    | -0.270    |  0.816    |  1.572    | 0.1616300 |  0.712    | Up        | 1         | \n",
       "| 1990      |  0.712    |  3.514    | -2.576    | -0.270    |  0.816    | 0.1537280 |  1.178    | Up        | 1         | \n",
       "| 1990      |  1.178    |  0.712    |  3.514    | -2.576    | -0.270    | 0.1544440 | -1.372    | Down      | 0         | \n",
       "\n",
       "\n"
      ],
      "text/plain": [
       "  Year Lag1   Lag2   Lag3   Lag4   Lag5   Volume    Today  Direction resp\n",
       "1 1990  0.816  1.572 -3.936 -0.229 -3.484 0.1549760 -0.270 Down      0   \n",
       "2 1990 -0.270  0.816  1.572 -3.936 -0.229 0.1485740 -2.576 Down      0   \n",
       "3 1990 -2.576 -0.270  0.816  1.572 -3.936 0.1598375  3.514 Up        1   \n",
       "4 1990  3.514 -2.576 -0.270  0.816  1.572 0.1616300  0.712 Up        1   \n",
       "5 1990  0.712  3.514 -2.576 -0.270  0.816 0.1537280  1.178 Up        1   \n",
       "6 1990  1.178  0.712  3.514 -2.576 -0.270 0.1544440 -1.372 Down      0   "
      ]
     },
     "metadata": {},
     "output_type": "display_data"
    }
   ],
   "source": [
    "C1<-data.frame(Weekly) %>%\n",
    "    mutate(resp=ifelse(Direction==\"Down\",0,1))\n",
    "head(C1)\n"
   ]
  },
  {
   "cell_type": "markdown",
   "metadata": {},
   "source": [
    "- ** Perform a logistic regression with Direction as the response variable and the five lag variables plus Volume as predictors. Use the summary function to review the results.  **"
   ]
  },
  {
   "cell_type": "code",
   "execution_count": 7,
   "metadata": {},
   "outputs": [
    {
     "data": {
      "text/plain": [
       "\n",
       "Call:\n",
       "glm(formula = resp ~ Lag1 + Lag2 + Lag3 + Lag4 + Lag5 + Volume, \n",
       "    family = \"binomial\", data = C1)\n",
       "\n",
       "Deviance Residuals: \n",
       "    Min       1Q   Median       3Q      Max  \n",
       "-1.6949  -1.2565   0.9913   1.0849   1.4579  \n",
       "\n",
       "Coefficients:\n",
       "            Estimate Std. Error z value Pr(>|z|)   \n",
       "(Intercept)  0.26686    0.08593   3.106   0.0019 **\n",
       "Lag1        -0.04127    0.02641  -1.563   0.1181   \n",
       "Lag2         0.05844    0.02686   2.175   0.0296 * \n",
       "Lag3        -0.01606    0.02666  -0.602   0.5469   \n",
       "Lag4        -0.02779    0.02646  -1.050   0.2937   \n",
       "Lag5        -0.01447    0.02638  -0.549   0.5833   \n",
       "Volume      -0.02274    0.03690  -0.616   0.5377   \n",
       "---\n",
       "Signif. codes:  0 '***' 0.001 '**' 0.01 '*' 0.05 '.' 0.1 ' ' 1\n",
       "\n",
       "(Dispersion parameter for binomial family taken to be 1)\n",
       "\n",
       "    Null deviance: 1496.2  on 1088  degrees of freedom\n",
       "Residual deviance: 1486.4  on 1082  degrees of freedom\n",
       "AIC: 1500.4\n",
       "\n",
       "Number of Fisher Scoring iterations: 4\n"
      ]
     },
     "metadata": {},
     "output_type": "display_data"
    }
   ],
   "source": [
    "glm.1<- glm(formula=resp~Lag1+Lag2+Lag3+Lag4+Lag5+Volume,data=C1,family=\"binomial\")\n",
    "summary(glm.1)"
   ]
  },
  {
   "cell_type": "markdown",
   "metadata": {},
   "source": [
    "- ** Do any of the predictors appear to be statistically significant at alpha = 0.05? If so, which one(s)? <br> Lag2 **"
   ]
  },
  {
   "cell_type": "markdown",
   "metadata": {},
   "source": [
    " - ** Compute the confusion matrix with 0.5 as the cutoff value. What are the values of true negative, false positive, false negative, true positive, and accuracy? **"
   ]
  },
  {
   "cell_type": "code",
   "execution_count": 8,
   "metadata": {},
   "outputs": [
    {
     "data": {
      "text/plain": [
       "    pred_outcome_model4\n",
       "resp   0   1\n",
       "   0  54 430\n",
       "   1  48 557"
      ]
     },
     "metadata": {},
     "output_type": "display_data"
    }
   ],
   "source": [
    "C1 <-  C1 %>% \n",
    "  mutate(pred_prob_model4 = predict(glm.1, newdata = ., type = \"response\")) %>% \n",
    "  mutate(pred_outcome_model4 = ifelse(pred_prob_model4 >= 0.5,1,0))\n",
    "#Confusion matrix\n",
    "xtabs(~resp + pred_outcome_model4, data = C1)"
   ]
  },
  {
   "cell_type": "code",
   "execution_count": 9,
   "metadata": {},
   "outputs": [
    {
     "data": {
      "text/html": [
       "54"
      ],
      "text/latex": [
       "54"
      ],
      "text/markdown": [
       "54"
      ],
      "text/plain": [
       "[1] 54"
      ]
     },
     "metadata": {},
     "output_type": "display_data"
    },
    {
     "data": {
      "text/html": [
       "430"
      ],
      "text/latex": [
       "430"
      ],
      "text/markdown": [
       "430"
      ],
      "text/plain": [
       "[1] 430"
      ]
     },
     "metadata": {},
     "output_type": "display_data"
    },
    {
     "data": {
      "text/html": [
       "48"
      ],
      "text/latex": [
       "48"
      ],
      "text/markdown": [
       "48"
      ],
      "text/plain": [
       "[1] 48"
      ]
     },
     "metadata": {},
     "output_type": "display_data"
    },
    {
     "data": {
      "text/html": [
       "557"
      ],
      "text/latex": [
       "557"
      ],
      "text/markdown": [
       "557"
      ],
      "text/plain": [
       "[1] 557"
      ]
     },
     "metadata": {},
     "output_type": "display_data"
    },
    {
     "data": {
      "text/html": [
       "0.561065197428834"
      ],
      "text/latex": [
       "0.561065197428834"
      ],
      "text/markdown": [
       "0.561065197428834"
      ],
      "text/plain": [
       "[1] 0.5610652"
      ]
     },
     "metadata": {},
     "output_type": "display_data"
    }
   ],
   "source": [
    "TN=54\n",
    "FP=430\n",
    "FN=48\n",
    "TP=557\n",
    "accuracy=(TN+TP)/(TN+FP+FN+TP)\n",
    "TN\n",
    "FP\n",
    "FN\n",
    "TP\n",
    "accuracy"
   ]
  },
  {
   "cell_type": "markdown",
   "metadata": {},
   "source": [
    "- ** Fit a logistic regression model using a training data period from 1990 to 2008 with Direction as the response variable and with Lag2 as the only predictor. Compute the confusion matrix and the values of true positive, false negative, true negative, false positive for the holdout data (that is the data from 2009 to 2010). What are the values of true negative, false positive, false negative, true positive, and accuracy? **"
   ]
  },
  {
   "cell_type": "code",
   "execution_count": 10,
   "metadata": {},
   "outputs": [
    {
     "data": {
      "text/plain": [
       "    pred_outcome_model2\n",
       "resp  0  1\n",
       "   0  9 34\n",
       "   1  5 56"
      ]
     },
     "metadata": {},
     "output_type": "display_data"
    }
   ],
   "source": [
    "C1_subset<-C1 %>% \n",
    "    filter(Year>=1990 & Year<=2008)\n",
    "C1_response<-C1 %>%\n",
    "    filter(Year>=2009 & Year<=2010)\n",
    "glm.2<- glm(formula=resp~Lag2,data=C1_subset,family=\"binomial\")\n",
    "C1_response <-  C1_response %>% \n",
    "  mutate(pred_prob_model2 = predict(glm.2, newdata = ., type = \"response\")) %>% \n",
    "  mutate(pred_outcome_model2 = ifelse(pred_prob_model2 >= 0.5,1,0))\n",
    "#Confusion matrix\n",
    "xtabs(~resp + pred_outcome_model2, data = C1_response)"
   ]
  },
  {
   "cell_type": "code",
   "execution_count": 11,
   "metadata": {},
   "outputs": [
    {
     "data": {
      "text/html": [
       "9"
      ],
      "text/latex": [
       "9"
      ],
      "text/markdown": [
       "9"
      ],
      "text/plain": [
       "[1] 9"
      ]
     },
     "metadata": {},
     "output_type": "display_data"
    },
    {
     "data": {
      "text/html": [
       "34"
      ],
      "text/latex": [
       "34"
      ],
      "text/markdown": [
       "34"
      ],
      "text/plain": [
       "[1] 34"
      ]
     },
     "metadata": {},
     "output_type": "display_data"
    },
    {
     "data": {
      "text/html": [
       "5"
      ],
      "text/latex": [
       "5"
      ],
      "text/markdown": [
       "5"
      ],
      "text/plain": [
       "[1] 5"
      ]
     },
     "metadata": {},
     "output_type": "display_data"
    },
    {
     "data": {
      "text/html": [
       "56"
      ],
      "text/latex": [
       "56"
      ],
      "text/markdown": [
       "56"
      ],
      "text/plain": [
       "[1] 56"
      ]
     },
     "metadata": {},
     "output_type": "display_data"
    },
    {
     "data": {
      "text/html": [
       "0.625"
      ],
      "text/latex": [
       "0.625"
      ],
      "text/markdown": [
       "0.625"
      ],
      "text/plain": [
       "[1] 0.625"
      ]
     },
     "metadata": {},
     "output_type": "display_data"
    }
   ],
   "source": [
    "TN=9\n",
    "FP=34\n",
    "FN=5\n",
    "TP=56\n",
    "accuracy=(TN+TP)/(TN+FP+FN+TP)\n",
    "TN\n",
    "FP\n",
    "FN\n",
    "TP\n",
    "accuracy"
   ]
  },
  {
   "cell_type": "markdown",
   "metadata": {},
   "source": [
    "- ** estimate the Sensitivity and Specificity of the model. **"
   ]
  },
  {
   "cell_type": "code",
   "execution_count": 12,
   "metadata": {},
   "outputs": [
    {
     "data": {
      "text/html": [
       "0.918032786885246"
      ],
      "text/latex": [
       "0.918032786885246"
      ],
      "text/markdown": [
       "0.918032786885246"
      ],
      "text/plain": [
       "[1] 0.9180328"
      ]
     },
     "metadata": {},
     "output_type": "display_data"
    },
    {
     "data": {
      "text/html": [
       "0.209302325581395"
      ],
      "text/latex": [
       "0.209302325581395"
      ],
      "text/markdown": [
       "0.209302325581395"
      ],
      "text/plain": [
       "[1] 0.2093023"
      ]
     },
     "metadata": {},
     "output_type": "display_data"
    }
   ],
   "source": [
    "sensitivity=TP/(TP+FN)\n",
    "specificity=TN/(TN+FP)\n",
    "sensitivity\n",
    "specificity"
   ]
  },
  {
   "cell_type": "markdown",
   "metadata": {},
   "source": [
    "** For the remaining questions (14 and 15) use the star dataset in the ECDAT package. Create a new dataset mydata that only has records for the small and regular.with.aide classes. We are not interested in regular sized classes. Create a dummy variable called small which is 1 if a record in mydata is of a student in a small size class, and is 0 otherwise. Create totalscore which is the sum of the math and the reading scores for each record. **"
   ]
  },
  {
   "cell_type": "code",
   "execution_count": 13,
   "metadata": {},
   "outputs": [
    {
     "data": {
      "text/html": [
       "<table>\n",
       "<thead><tr><th scope=col>tmathssk</th><th scope=col>treadssk</th><th scope=col>classk</th><th scope=col>totexpk</th><th scope=col>sex</th><th scope=col>freelunk</th><th scope=col>race</th><th scope=col>schidkn</th><th scope=col>small</th><th scope=col>totalscore</th></tr></thead>\n",
       "<tbody>\n",
       "\t<tr><td>473              </td><td>447              </td><td>small.class      </td><td> 7               </td><td>girl             </td><td>no               </td><td>white            </td><td>63               </td><td>1                </td><td>920              </td></tr>\n",
       "\t<tr><td>536              </td><td>450              </td><td>small.class      </td><td>21               </td><td>girl             </td><td>no               </td><td>black            </td><td>20               </td><td>1                </td><td>986              </td></tr>\n",
       "\t<tr><td>463              </td><td>439              </td><td>regular.with.aide</td><td> 0               </td><td>boy              </td><td>yes              </td><td>black            </td><td>19               </td><td>0                </td><td>902              </td></tr>\n",
       "\t<tr><td>489              </td><td>447              </td><td>small.class      </td><td> 5               </td><td>boy              </td><td>yes              </td><td>white            </td><td>79               </td><td>1                </td><td>936              </td></tr>\n",
       "\t<tr><td>423              </td><td>395              </td><td>regular.with.aide</td><td>17               </td><td>girl             </td><td>yes              </td><td>black            </td><td>16               </td><td>0                </td><td>818              </td></tr>\n",
       "\t<tr><td>439              </td><td>478              </td><td>small.class      </td><td>11               </td><td>girl             </td><td>no               </td><td>black            </td><td>11               </td><td>1                </td><td>917              </td></tr>\n",
       "</tbody>\n",
       "</table>\n"
      ],
      "text/latex": [
       "\\begin{tabular}{r|llllllllll}\n",
       " tmathssk & treadssk & classk & totexpk & sex & freelunk & race & schidkn & small & totalscore\\\\\n",
       "\\hline\n",
       "\t 473               & 447               & small.class       &  7                & girl              & no                & white             & 63                & 1                 & 920              \\\\\n",
       "\t 536               & 450               & small.class       & 21                & girl              & no                & black             & 20                & 1                 & 986              \\\\\n",
       "\t 463               & 439               & regular.with.aide &  0                & boy               & yes               & black             & 19                & 0                 & 902              \\\\\n",
       "\t 489               & 447               & small.class       &  5                & boy               & yes               & white             & 79                & 1                 & 936              \\\\\n",
       "\t 423               & 395               & regular.with.aide & 17                & girl              & yes               & black             & 16                & 0                 & 818              \\\\\n",
       "\t 439               & 478               & small.class       & 11                & girl              & no                & black             & 11                & 1                 & 917              \\\\\n",
       "\\end{tabular}\n"
      ],
      "text/markdown": [
       "\n",
       "tmathssk | treadssk | classk | totexpk | sex | freelunk | race | schidkn | small | totalscore | \n",
       "|---|---|---|---|---|---|\n",
       "| 473               | 447               | small.class       |  7                | girl              | no                | white             | 63                | 1                 | 920               | \n",
       "| 536               | 450               | small.class       | 21                | girl              | no                | black             | 20                | 1                 | 986               | \n",
       "| 463               | 439               | regular.with.aide |  0                | boy               | yes               | black             | 19                | 0                 | 902               | \n",
       "| 489               | 447               | small.class       |  5                | boy               | yes               | white             | 79                | 1                 | 936               | \n",
       "| 423               | 395               | regular.with.aide | 17                | girl              | yes               | black             | 16                | 0                 | 818               | \n",
       "| 439               | 478               | small.class       | 11                | girl              | no                | black             | 11                | 1                 | 917               | \n",
       "\n",
       "\n"
      ],
      "text/plain": [
       "  tmathssk treadssk classk            totexpk sex  freelunk race  schidkn small\n",
       "1 473      447      small.class        7      girl no       white 63      1    \n",
       "2 536      450      small.class       21      girl no       black 20      1    \n",
       "3 463      439      regular.with.aide  0      boy  yes      black 19      0    \n",
       "4 489      447      small.class        5      boy  yes      white 79      1    \n",
       "5 423      395      regular.with.aide 17      girl yes      black 16      0    \n",
       "6 439      478      small.class       11      girl no       black 11      1    \n",
       "  totalscore\n",
       "1 920       \n",
       "2 986       \n",
       "3 902       \n",
       "4 936       \n",
       "5 818       \n",
       "6 917       "
      ]
     },
     "metadata": {},
     "output_type": "display_data"
    }
   ],
   "source": [
    "mydata<-data.frame(Star) %>%\n",
    "filter(classk=='small.class' | classk=='regular.with.aide') %>%\n",
    "mutate(small=ifelse(classk=='small.class',1,0)) %>%\n",
    "mutate(totalscore=tmathssk+treadssk)\n",
    "head(mydata)\n"
   ]
  },
  {
   "cell_type": "markdown",
   "metadata": {},
   "source": [
    "- ** Please run a linear regression using all the data in mydata using totalscore as the response variable and small as the predictor **"
   ]
  },
  {
   "cell_type": "code",
   "execution_count": 14,
   "metadata": {},
   "outputs": [
    {
     "data": {
      "text/plain": [
       "\n",
       "Call:\n",
       "lm(formula = totalscore ~ small, data = mydata)\n",
       "\n",
       "Residuals:\n",
       "    Min      1Q  Median      3Q     Max \n",
       "-199.50  -51.05   -8.05   42.50  334.50 \n",
       "\n",
       "Coefficients:\n",
       "            Estimate Std. Error t value Pr(>|t|)    \n",
       "(Intercept)  918.497      1.645 558.211  < 2e-16 ***\n",
       "small         13.554      2.420   5.601 2.28e-08 ***\n",
       "---\n",
       "Signif. codes:  0 '***' 0.001 '**' 0.01 '*' 0.05 '.' 0.1 ' ' 1\n",
       "\n",
       "Residual standard error: 73.86 on 3746 degrees of freedom\n",
       "Multiple R-squared:  0.008305,\tAdjusted R-squared:  0.008041 \n",
       "F-statistic: 31.37 on 1 and 3746 DF,  p-value: 2.283e-08\n"
      ]
     },
     "metadata": {},
     "output_type": "display_data"
    }
   ],
   "source": [
    "lm.1<-lm(formula=totalscore~small,data=mydata)\n",
    "summary(lm.1)"
   ]
  },
  {
   "cell_type": "markdown",
   "metadata": {},
   "source": [
    "- ** What is the estimated coefficient of small? What is its t-value? Is small statistically significant? <br> 13.554,5.601,Yes**\n"
   ]
  },
  {
   "cell_type": "markdown",
   "metadata": {},
   "source": [
    "- ** Please run a linear regression using all the data in mydata using totalscore as the response variable and small and teacher experience as the predictors.  **"
   ]
  },
  {
   "cell_type": "code",
   "execution_count": 15,
   "metadata": {},
   "outputs": [
    {
     "data": {
      "text/plain": [
       "\n",
       "Call:\n",
       "lm(formula = totalscore ~ small + totexpk, data = mydata)\n",
       "\n",
       "Residuals:\n",
       "    Min      1Q  Median      3Q     Max \n",
       "-201.10  -51.45   -7.73   41.85  340.96 \n",
       "\n",
       "Coefficients:\n",
       "            Estimate Std. Error t value Pr(>|t|)    \n",
       "(Intercept) 905.3270     2.6143 346.296  < 2e-16 ***\n",
       "small        14.6502     2.4127   6.072 1.39e-09 ***\n",
       "totexpk       1.3429     0.2079   6.460 1.18e-10 ***\n",
       "---\n",
       "Signif. codes:  0 '***' 0.001 '**' 0.01 '*' 0.05 '.' 0.1 ' ' 1\n",
       "\n",
       "Residual standard error: 73.46 on 3745 degrees of freedom\n",
       "Multiple R-squared:  0.01923,\tAdjusted R-squared:  0.01871 \n",
       "F-statistic: 36.72 on 2 and 3745 DF,  p-value: < 2.2e-16\n"
      ]
     },
     "metadata": {},
     "output_type": "display_data"
    }
   ],
   "source": [
    "lm.2<-lm(formula=totalscore~small+totexpk,data=mydata)\n",
    "summary(lm.2)"
   ]
  },
  {
   "cell_type": "markdown",
   "metadata": {},
   "source": [
    "- **What are the estimated coefficient of small and teacher experience? What are their t-value? Are they statistically significant? **\n",
    "\n",
    "** Small:14.6502 ,6.072,yes   Teacher:1.3429,6.460,yes **"
   ]
  }
 ],
 "metadata": {
  "kernelspec": {
   "display_name": "R",
   "language": "R",
   "name": "ir"
  },
  "language_info": {
   "codemirror_mode": "r",
   "file_extension": ".r",
   "mimetype": "text/x-r-source",
   "name": "R",
   "pygments_lexer": "r",
   "version": "3.4.0"
  }
 },
 "nbformat": 4,
 "nbformat_minor": 2
}
